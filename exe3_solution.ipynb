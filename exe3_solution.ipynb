{
  "cells": [
    {
      "cell_type": "markdown",
      "id": "b07ab319",
      "metadata": {
        "id": "b07ab319"
      },
      "source": [
        "# Recommendations Systems\n",
        "## Assignment 3:  Neural Collaborative Filtering"
      ]
    },
    {
      "cell_type": "markdown",
      "id": "e7cf8d52",
      "metadata": {
        "id": "e7cf8d52"
      },
      "source": [
        "**By:**  \n",
        "\n",
        "John Doe, 300123123  \n",
        "Jane Doe, 200123123\n",
        "\n",
        "<br><br>"
      ]
    },
    {
      "cell_type": "markdown",
      "id": "fc83c3b3",
      "metadata": {
        "id": "fc83c3b3"
      },
      "source": [
        "**The goal of this assignment is to:**\n",
        "- Understand the concept of recommendations based on implicit data which is very common in real life.\n",
        "- Understand how DL components can be used to implement a collaborative filtering & hybrid approach recommenders.\n",
        "- Understand pros&cons comparing to other recommender system approaches.\n",
        "- Practice recommender system training and evaluation.\n",
        "\n",
        "**Instructions:**\n",
        "- Students will form teams of two people each, and submit a single homework for each team.\n",
        "- The same score for the homework will be given to each member of the team.\n",
        "- Your solution in the form of an Jupyter notebook file (with extension ipynb).\n",
        "- Images/Graphs/Tables should be submitted inside the notebook.\n",
        "- The notebook should be runnable and properly documented. \n",
        "- Please answer all the questions and include all your code.\n",
        "- English only.\n",
        "\n",
        "**Submission:**\n",
        "- Submission of the homework will be done via Moodle by uploading a Jupyter notbook.\n",
        "- The homwork needs to be entirely in English.\n",
        "- The deadline for submission is on Moodle.\n",
        "\n",
        "**Requirements:**  \n",
        "- Python 3.6 should be used. \n",
        "- You may use Torch/Keras/TF packeges.\n",
        "- You should implement the recommender system by yourself using only basic Python libraries (such as numpy)."
      ]
    },
    {
      "cell_type": "markdown",
      "id": "255a5329",
      "metadata": {
        "id": "255a5329"
      },
      "source": [
        "**LINKS:**\n",
        "- <a href='https://github.com/hexiangnan/neural_collaborative_filtering/tree/master/Data'>Dataset</a>\n",
        "- <a href='https://github.com/hexiangnan/neural_collaborative_filtering'>Repository</a>\n",
        "- <a href='https://towardsdatascience.com/paper-review-neural-collaborative-filtering-explanation-implementation-ea3e031b7f96'>Blog Post Review</a>\n",
        "<br>"
      ]
    },
    {
      "cell_type": "markdown",
      "id": "68b60d5b",
      "metadata": {
        "id": "68b60d5b"
      },
      "source": [
        "**Google <a href='https://colab.research.google.com/'>Colaboratory</a>**  \n",
        "        \n",
        "    This is a great academic tool for students. Instead of installing and running \"everything\" on your Laptop - which probably will take you a lot of time - you can use Google Colab.  \n",
        "    Basically, you can use it for all your Python needs.  \n",
        "\n",
        "**PyTorch <a href='https://pytorch.org/tutorials/beginner/basics/intro.html'>Tutorials</a>**   \n",
        "    \n",
        "    Just follow steps 0-7 and you will have the basics skills to understand, build, and run DL recommender models. \n",
        "\n",
        "**Keras Kaggle's <a href='https://www.kaggle.com/learn/intro-to-deep-learning'>intro-to-deep-learning</a>**  \n",
        "    \n",
        "    This will give you a quick idea of what DL is, and how to utilize it.  \n",
        "    They're using TensorFlow, while in our MLDL program we're using PyTorch.  \n",
        "\n",
        "\n"
      ]
    },
    {
      "cell_type": "markdown",
      "id": "7a948c23",
      "metadata": {
        "id": "7a948c23"
      },
      "source": [
        "**Grading:**\n",
        "\n",
        "- Q1 - 20 points - Dataset Preparation\n",
        "- Q2 - 50 points - Neural Collaborative Filtering\n",
        "- Q3 - 30 points - Loss Function\n",
        "\n",
        "`Total: 100`\n",
        "\n",
        "<br><br><br>"
      ]
    },
    {
      "cell_type": "markdown",
      "id": "e6092ae5",
      "metadata": {
        "id": "e6092ae5"
      },
      "source": [
        "**Prerequisites**"
      ]
    },
    {
      "cell_type": "code",
      "execution_count": 73,
      "id": "6c287be1",
      "metadata": {
        "id": "6c287be1"
      },
      "outputs": [],
      "source": [
        "# !pip install --quiet\n",
        "!pip install 'livelossplot==0.2.2' --quiet"
      ]
    },
    {
      "cell_type": "markdown",
      "id": "93a7aed2",
      "metadata": {
        "id": "93a7aed2"
      },
      "source": [
        "**Imports**"
      ]
    },
    {
      "cell_type": "code",
      "execution_count": 1,
      "id": "c1c65b43",
      "metadata": {
        "id": "c1c65b43"
      },
      "outputs": [],
      "source": [
        "# basic\n",
        "import os \n",
        "import sys\n",
        "import math\n",
        "import heapq\n",
        "import argparse\n",
        "from time import time\n",
        "import multiprocessing\n",
        "\n",
        "# general\n",
        "import warnings\n",
        "import numpy as np\n",
        "import scipy as sp\n",
        "import pandas as pd\n",
        "import scipy.sparse as sp\n",
        "\n",
        "# visual\n",
        "import matplotlib\n",
        "import seaborn as sns\n",
        "import matplotlib.pyplot as plt\n",
        "\n",
        "# visual 3D\n",
        "from mpl_toolkits import mplot3d\n",
        "\n",
        "# notebook\n",
        "from IPython.display import display, HTML\n",
        "\n",
        "\n",
        "# torch\n",
        "import torch\n",
        "from torch import nn\n",
        "import torch.nn.functional as F\n",
        "from torch.nn import Sequential\n",
        "from torch.nn import Sigmoid,ReLU\n",
        "from torch.nn import Embedding,Linear,Dropout\n",
        "from torch.utils.data import DataLoader, Dataset\n",
        "from torchvision.transforms import ToTensor,Compose\n",
        "from torch.optim import SparseAdam,Adam,Adagrad,SGD\n",
        "\n",
        "\n",
        "# Keras\n",
        "# import tensorflow\n",
        "# from tensorflow import keras\n",
        "# from tensorflow.keras.models import Model\n",
        "# from tensorflow.keras import initializers\n",
        "# from tensorflow.keras.regularizers import l2\n",
        "# from tensorflow.keras.initializers import RandomNormal\n",
        "# from tensorflow.keras.layers import Dense,Lambda,Activation\n",
        "# from tensorflow.keras.optimizers import Adam,SGD,RMSprop,Adamax\n",
        "# from tensorflow.keras.models import Sequential,Model,load_model,save_model\n",
        "# from tensorflow.keras.callbacks import Callback, EarlyStopping, ModelCheckpoint\n",
        "# from tensorflow.keras.layers import Embedding,Input,Dense,Reshape,Flatten,Dropout,Multiply,Concatenate\n",
        "\n",
        "# colab\n",
        "# from google.colab import drive  "
      ]
    },
    {
      "cell_type": "code",
      "source": [
        "from livelossplot import PlotLosses"
      ],
      "metadata": {
        "id": "Pl44-z7iWY0_"
      },
      "id": "Pl44-z7iWY0_",
      "execution_count": 74,
      "outputs": []
    },
    {
      "cell_type": "markdown",
      "id": "69698756",
      "metadata": {
        "id": "69698756"
      },
      "source": [
        "**Hide Warnings**"
      ]
    },
    {
      "cell_type": "code",
      "execution_count": 2,
      "id": "60261b82",
      "metadata": {
        "id": "60261b82"
      },
      "outputs": [],
      "source": [
        "warnings.filterwarnings('ignore')"
      ]
    },
    {
      "cell_type": "markdown",
      "id": "01d28658",
      "metadata": {
        "id": "01d28658"
      },
      "source": [
        "**Disable Autoscrolling**"
      ]
    },
    {
      "cell_type": "code",
      "execution_count": 3,
      "id": "e37c0a40",
      "metadata": {
        "colab": {
          "base_uri": "https://localhost:8080/",
          "height": 17
        },
        "id": "e37c0a40",
        "outputId": "30f6aaf0-2e8c-41bd-80fe-870c6dd6d4c6"
      },
      "outputs": [
        {
          "output_type": "display_data",
          "data": {
            "application/javascript": [
              "IPython.OutputArea.prototype._should_scroll = function(lines) {\n",
              "    return false;\n",
              "};"
            ],
            "text/plain": [
              "<IPython.core.display.Javascript object>"
            ]
          },
          "metadata": {}
        }
      ],
      "source": [
        "%%javascript\n",
        "IPython.OutputArea.prototype._should_scroll = function(lines) {\n",
        "    return false;\n",
        "};"
      ]
    },
    {
      "cell_type": "markdown",
      "id": "d62047eb",
      "metadata": {
        "id": "d62047eb"
      },
      "source": [
        "<br><br><br>\n",
        "<br><br><br>\n",
        "<br><br><br>"
      ]
    },
    {
      "cell_type": "markdown",
      "id": "bfb2ef84",
      "metadata": {
        "id": "bfb2ef84"
      },
      "source": [
        "## Question 1: Dataset Preparation (Ingestion)\n",
        "<br><br>"
      ]
    },
    {
      "cell_type": "markdown",
      "id": "1b14dfb6",
      "metadata": {
        "id": "1b14dfb6"
      },
      "source": [
        "This implementation contains one file for training and two files for testing:   \n",
        "- ml-1m.train.rating   \n",
        "- ml-1m.test.rating  \n",
        "- ml-1m.test.negative   \n",
        "\n",
        "<br>\n",
        "(feel free to use visual explanations)\n",
        "<br>"
      ]
    },
    {
      "cell_type": "markdown",
      "id": "9a459d13",
      "metadata": {
        "id": "9a459d13"
      },
      "source": [
        "a. **Explain** the role and structure of each file and how it was created from the original <a href='https://github.com/hexiangnan/neural_collaborative_filtering/tree/master/Data'>MovieLens 1M rating dataset</a>."
      ]
    },
    {
      "cell_type": "markdown",
      "id": "af392db8",
      "metadata": {
        "id": "af392db8"
      },
      "source": [
        "### ml-1m.train.rating and  ml-1m.test.rating format  \\\n",
        "  user_id - from 0 to 6039 \n",
        "  movie id - from 0  to 3573\n",
        "  rating - [1,2,3,4,5]\n",
        "  timestamp - is represented in seconds since the epoch\n",
        " \n",
        " in trainning file each user has atleast 19 rows and the maximum is 2313 rows.\n",
        " in the test every user has 1 row which is the last rating he gave. \n",
        " \n",
        " \n",
        "  \n",
        " \n",
        "### ml-1m.test.negative  format:  (row numer, user id), list of movies that the user didnt interact with.\n",
        "\n",
        "Test file (negative instances).\n",
        "Each line corresponds to the line of test.rating, containing 99 negative samples.\n",
        "Each line is in the format: (user id, item id)\\t negativeItemID1\\t negativeItemID2"
      ]
    },
    {
      "cell_type": "markdown",
      "id": "275e2cbe",
      "metadata": {
        "id": "275e2cbe"
      },
      "source": [
        "b. **Explain** how the training dataset is created."
      ]
    },
    {
      "cell_type": "markdown",
      "id": "0b52746a",
      "metadata": {
        "id": "0b52746a"
      },
      "source": [
        "trainning file was created from ratings.dat file.\n",
        "\n",
        "They used version that contains only users with atleast 20 ratings.\n",
        "\n",
        "so the tranning set contains atleast 19 rows for every user (last row goes to test).\n",
        "\n",
        "They took all the user rating except for the last rating (last in time)"
      ]
    },
    {
      "cell_type": "markdown",
      "id": "006b6525",
      "metadata": {
        "id": "006b6525"
      },
      "source": [
        "c. **Explain** how the test dataset is created."
      ]
    },
    {
      "cell_type": "markdown",
      "id": "0605e71e",
      "metadata": {
        "id": "0605e71e"
      },
      "source": [
        " The test file contain the last rating every user gave.  \n",
        " \n",
        " since they used movilen with atleast 20 ratings for every user, so every user has one test rating and at least  \n",
        "  19 trainning ratings."
      ]
    },
    {
      "cell_type": "markdown",
      "id": "3e01261c",
      "metadata": {
        "id": "3e01261c"
      },
      "source": [
        "#### Data Preperations:"
      ]
    },
    {
      "cell_type": "code",
      "source": [
        "!git clone https://github.com/hexiangnan/neural_collaborative_filtering.git"
      ],
      "metadata": {
        "colab": {
          "base_uri": "https://localhost:8080/"
        },
        "id": "rJ7nDjEzt9Ng",
        "outputId": "bf5c0870-4dec-4017-a7c8-0784e2911ea2"
      },
      "id": "rJ7nDjEzt9Ng",
      "execution_count": 4,
      "outputs": [
        {
          "output_type": "stream",
          "name": "stdout",
          "text": [
            "Cloning into 'neural_collaborative_filtering'...\n",
            "remote: Enumerating objects: 66, done.\u001b[K\n",
            "remote: Total 66 (delta 0), reused 0 (delta 0), pack-reused 66\u001b[K\n",
            "Unpacking objects: 100% (66/66), done.\n"
          ]
        }
      ]
    },
    {
      "cell_type": "code",
      "source": [
        "!cp -r neural_collaborative_filtering/Data/* .\n",
        "!ls"
      ],
      "metadata": {
        "colab": {
          "base_uri": "https://localhost:8080/"
        },
        "id": "q2LJAfAtt_zF",
        "outputId": "c2d0806b-3064-444d-e70a-b8bbb34e6a6b"
      },
      "id": "q2LJAfAtt_zF",
      "execution_count": 5,
      "outputs": [
        {
          "output_type": "stream",
          "name": "stdout",
          "text": [
            "ml-1m.test.negative  neural_collaborative_filtering  pinterest-20.train.rating\n",
            "ml-1m.test.rating    pinterest-20.test.negative      sample_data\n",
            "ml-1m.train.rating   pinterest-20.test.rating\n"
          ]
        }
      ]
    },
    {
      "cell_type": "code",
      "execution_count": 6,
      "id": "05f66d5b",
      "metadata": {
        "id": "05f66d5b"
      },
      "outputs": [],
      "source": [
        "file_train    = 'ml-1m.train.rating'\n",
        "file_test     = 'ml-1m.test.rating'\n",
        "file_test_neg = 'ml-1m.test.negative'"
      ]
    },
    {
      "cell_type": "code",
      "source": [
        "\n",
        "def create_negative_dataset(filename):\n",
        "  negative_rows = []\n",
        "\n",
        "  with open(filename, \"r\") as f:\n",
        "            \n",
        "    line = f.readline().strip()\n",
        "            \n",
        "    while line != None and line != \"\":\n",
        "\n",
        "      arr = line.split(\"\\t\")\n",
        "\n",
        "      user_id, item_id = eval(arr[0])\n",
        "                \n",
        "      negative_itenms = [int(i) for i in line.split('\\t')[1:]]\n",
        "                \n",
        "      negative_rows.append((user_id, item_id, negative_itenms))\n",
        "                \n",
        "      line = f.readline()\n",
        "    \n",
        "\n",
        "  return pd.DataFrame(negative_rows, columns =['user_id', 'item_id', 'negative_items'])\n"
      ],
      "metadata": {
        "id": "wBgzlDGSsQ44"
      },
      "id": "wBgzlDGSsQ44",
      "execution_count": 7,
      "outputs": []
    },
    {
      "cell_type": "code",
      "execution_count": 8,
      "id": "fb846109",
      "metadata": {
        "colab": {
          "base_uri": "https://localhost:8080/"
        },
        "id": "fb846109",
        "outputId": "12b418d8-8a45-4693-d581-e75bc1c4c345"
      },
      "outputs": [
        {
          "output_type": "execute_result",
          "data": {
            "text/plain": [
              "(994169, 6040, 6040)"
            ]
          },
          "metadata": {},
          "execution_count": 8
        }
      ],
      "source": [
        "train_df = pd.read_csv(file_train, sep='\\t',  engine='python',  encoding='latin-1', names=['user_id', 'movie_id', 'rating', 'timestamp'])\n",
        "\n",
        "test_df = pd.read_csv(file_test, sep='\\t', engine='python',  encoding='latin-1', names=['user_id', 'movie_id', 'rating', 'timestamp'])\n",
        "\n",
        "test_negative_df = create_negative_dataset(file_test_neg)\n",
        "\n",
        "test_negative_df['num_of_negative'] = test_negative_df['negative_items'].apply(len)\n",
        "\n",
        "train_df.shape[0], test_df.shape[0], test_negative_df.shape[0]"
      ]
    },
    {
      "cell_type": "code",
      "execution_count": 9,
      "id": "acb83bac",
      "metadata": {
        "colab": {
          "base_uri": "https://localhost:8080/",
          "height": 142
        },
        "id": "acb83bac",
        "outputId": "1788b72b-a034-41ba-d0da-e341228b2c5e"
      },
      "outputs": [
        {
          "output_type": "execute_result",
          "data": {
            "text/html": [
              "\n",
              "  <div id=\"df-87113c6f-30c2-417a-b44c-7a5ceeb53e07\">\n",
              "    <div class=\"colab-df-container\">\n",
              "      <div>\n",
              "<style scoped>\n",
              "    .dataframe tbody tr th:only-of-type {\n",
              "        vertical-align: middle;\n",
              "    }\n",
              "\n",
              "    .dataframe tbody tr th {\n",
              "        vertical-align: top;\n",
              "    }\n",
              "\n",
              "    .dataframe thead th {\n",
              "        text-align: right;\n",
              "    }\n",
              "</style>\n",
              "<table border=\"1\" class=\"dataframe\">\n",
              "  <thead>\n",
              "    <tr style=\"text-align: right;\">\n",
              "      <th></th>\n",
              "      <th>user_id</th>\n",
              "      <th>movie_id</th>\n",
              "      <th>rating</th>\n",
              "      <th>timestamp</th>\n",
              "    </tr>\n",
              "  </thead>\n",
              "  <tbody>\n",
              "    <tr>\n",
              "      <th>601072</th>\n",
              "      <td>3675</td>\n",
              "      <td>44</td>\n",
              "      <td>5</td>\n",
              "      <td>966363218</td>\n",
              "    </tr>\n",
              "    <tr>\n",
              "      <th>414682</th>\n",
              "      <td>2509</td>\n",
              "      <td>97</td>\n",
              "      <td>5</td>\n",
              "      <td>974073560</td>\n",
              "    </tr>\n",
              "    <tr>\n",
              "      <th>379842</th>\n",
              "      <td>2231</td>\n",
              "      <td>488</td>\n",
              "      <td>4</td>\n",
              "      <td>974597684</td>\n",
              "    </tr>\n",
              "  </tbody>\n",
              "</table>\n",
              "</div>\n",
              "      <button class=\"colab-df-convert\" onclick=\"convertToInteractive('df-87113c6f-30c2-417a-b44c-7a5ceeb53e07')\"\n",
              "              title=\"Convert this dataframe to an interactive table.\"\n",
              "              style=\"display:none;\">\n",
              "        \n",
              "  <svg xmlns=\"http://www.w3.org/2000/svg\" height=\"24px\"viewBox=\"0 0 24 24\"\n",
              "       width=\"24px\">\n",
              "    <path d=\"M0 0h24v24H0V0z\" fill=\"none\"/>\n",
              "    <path d=\"M18.56 5.44l.94 2.06.94-2.06 2.06-.94-2.06-.94-.94-2.06-.94 2.06-2.06.94zm-11 1L8.5 8.5l.94-2.06 2.06-.94-2.06-.94L8.5 2.5l-.94 2.06-2.06.94zm10 10l.94 2.06.94-2.06 2.06-.94-2.06-.94-.94-2.06-.94 2.06-2.06.94z\"/><path d=\"M17.41 7.96l-1.37-1.37c-.4-.4-.92-.59-1.43-.59-.52 0-1.04.2-1.43.59L10.3 9.45l-7.72 7.72c-.78.78-.78 2.05 0 2.83L4 21.41c.39.39.9.59 1.41.59.51 0 1.02-.2 1.41-.59l7.78-7.78 2.81-2.81c.8-.78.8-2.07 0-2.86zM5.41 20L4 18.59l7.72-7.72 1.47 1.35L5.41 20z\"/>\n",
              "  </svg>\n",
              "      </button>\n",
              "      \n",
              "  <style>\n",
              "    .colab-df-container {\n",
              "      display:flex;\n",
              "      flex-wrap:wrap;\n",
              "      gap: 12px;\n",
              "    }\n",
              "\n",
              "    .colab-df-convert {\n",
              "      background-color: #E8F0FE;\n",
              "      border: none;\n",
              "      border-radius: 50%;\n",
              "      cursor: pointer;\n",
              "      display: none;\n",
              "      fill: #1967D2;\n",
              "      height: 32px;\n",
              "      padding: 0 0 0 0;\n",
              "      width: 32px;\n",
              "    }\n",
              "\n",
              "    .colab-df-convert:hover {\n",
              "      background-color: #E2EBFA;\n",
              "      box-shadow: 0px 1px 2px rgba(60, 64, 67, 0.3), 0px 1px 3px 1px rgba(60, 64, 67, 0.15);\n",
              "      fill: #174EA6;\n",
              "    }\n",
              "\n",
              "    [theme=dark] .colab-df-convert {\n",
              "      background-color: #3B4455;\n",
              "      fill: #D2E3FC;\n",
              "    }\n",
              "\n",
              "    [theme=dark] .colab-df-convert:hover {\n",
              "      background-color: #434B5C;\n",
              "      box-shadow: 0px 1px 3px 1px rgba(0, 0, 0, 0.15);\n",
              "      filter: drop-shadow(0px 1px 2px rgba(0, 0, 0, 0.3));\n",
              "      fill: #FFFFFF;\n",
              "    }\n",
              "  </style>\n",
              "\n",
              "      <script>\n",
              "        const buttonEl =\n",
              "          document.querySelector('#df-87113c6f-30c2-417a-b44c-7a5ceeb53e07 button.colab-df-convert');\n",
              "        buttonEl.style.display =\n",
              "          google.colab.kernel.accessAllowed ? 'block' : 'none';\n",
              "\n",
              "        async function convertToInteractive(key) {\n",
              "          const element = document.querySelector('#df-87113c6f-30c2-417a-b44c-7a5ceeb53e07');\n",
              "          const dataTable =\n",
              "            await google.colab.kernel.invokeFunction('convertToInteractive',\n",
              "                                                     [key], {});\n",
              "          if (!dataTable) return;\n",
              "\n",
              "          const docLinkHtml = 'Like what you see? Visit the ' +\n",
              "            '<a target=\"_blank\" href=https://colab.research.google.com/notebooks/data_table.ipynb>data table notebook</a>'\n",
              "            + ' to learn more about interactive tables.';\n",
              "          element.innerHTML = '';\n",
              "          dataTable['output_type'] = 'display_data';\n",
              "          await google.colab.output.renderOutput(dataTable, element);\n",
              "          const docLink = document.createElement('div');\n",
              "          docLink.innerHTML = docLinkHtml;\n",
              "          element.appendChild(docLink);\n",
              "        }\n",
              "      </script>\n",
              "    </div>\n",
              "  </div>\n",
              "  "
            ],
            "text/plain": [
              "        user_id  movie_id  rating  timestamp\n",
              "601072     3675        44       5  966363218\n",
              "414682     2509        97       5  974073560\n",
              "379842     2231       488       4  974597684"
            ]
          },
          "metadata": {},
          "execution_count": 9
        }
      ],
      "source": [
        "train_df.sample(3)"
      ]
    },
    {
      "cell_type": "code",
      "execution_count": 10,
      "id": "cc48b8c3",
      "metadata": {
        "colab": {
          "base_uri": "https://localhost:8080/",
          "height": 142
        },
        "id": "cc48b8c3",
        "outputId": "6dfcb0d0-33a4-46e6-bc90-503294277e20"
      },
      "outputs": [
        {
          "output_type": "execute_result",
          "data": {
            "text/html": [
              "\n",
              "  <div id=\"df-abfcc7bb-081a-4e92-bb05-5f03ff27fad6\">\n",
              "    <div class=\"colab-df-container\">\n",
              "      <div>\n",
              "<style scoped>\n",
              "    .dataframe tbody tr th:only-of-type {\n",
              "        vertical-align: middle;\n",
              "    }\n",
              "\n",
              "    .dataframe tbody tr th {\n",
              "        vertical-align: top;\n",
              "    }\n",
              "\n",
              "    .dataframe thead th {\n",
              "        text-align: right;\n",
              "    }\n",
              "</style>\n",
              "<table border=\"1\" class=\"dataframe\">\n",
              "  <thead>\n",
              "    <tr style=\"text-align: right;\">\n",
              "      <th></th>\n",
              "      <th>user_id</th>\n",
              "      <th>movie_id</th>\n",
              "      <th>rating</th>\n",
              "      <th>timestamp</th>\n",
              "    </tr>\n",
              "  </thead>\n",
              "  <tbody>\n",
              "    <tr>\n",
              "      <th>5585</th>\n",
              "      <td>5585</td>\n",
              "      <td>39</td>\n",
              "      <td>4</td>\n",
              "      <td>959277011</td>\n",
              "    </tr>\n",
              "    <tr>\n",
              "      <th>3873</th>\n",
              "      <td>3873</td>\n",
              "      <td>92</td>\n",
              "      <td>5</td>\n",
              "      <td>965840325</td>\n",
              "    </tr>\n",
              "    <tr>\n",
              "      <th>41</th>\n",
              "      <td>41</td>\n",
              "      <td>730</td>\n",
              "      <td>4</td>\n",
              "      <td>978041996</td>\n",
              "    </tr>\n",
              "  </tbody>\n",
              "</table>\n",
              "</div>\n",
              "      <button class=\"colab-df-convert\" onclick=\"convertToInteractive('df-abfcc7bb-081a-4e92-bb05-5f03ff27fad6')\"\n",
              "              title=\"Convert this dataframe to an interactive table.\"\n",
              "              style=\"display:none;\">\n",
              "        \n",
              "  <svg xmlns=\"http://www.w3.org/2000/svg\" height=\"24px\"viewBox=\"0 0 24 24\"\n",
              "       width=\"24px\">\n",
              "    <path d=\"M0 0h24v24H0V0z\" fill=\"none\"/>\n",
              "    <path d=\"M18.56 5.44l.94 2.06.94-2.06 2.06-.94-2.06-.94-.94-2.06-.94 2.06-2.06.94zm-11 1L8.5 8.5l.94-2.06 2.06-.94-2.06-.94L8.5 2.5l-.94 2.06-2.06.94zm10 10l.94 2.06.94-2.06 2.06-.94-2.06-.94-.94-2.06-.94 2.06-2.06.94z\"/><path d=\"M17.41 7.96l-1.37-1.37c-.4-.4-.92-.59-1.43-.59-.52 0-1.04.2-1.43.59L10.3 9.45l-7.72 7.72c-.78.78-.78 2.05 0 2.83L4 21.41c.39.39.9.59 1.41.59.51 0 1.02-.2 1.41-.59l7.78-7.78 2.81-2.81c.8-.78.8-2.07 0-2.86zM5.41 20L4 18.59l7.72-7.72 1.47 1.35L5.41 20z\"/>\n",
              "  </svg>\n",
              "      </button>\n",
              "      \n",
              "  <style>\n",
              "    .colab-df-container {\n",
              "      display:flex;\n",
              "      flex-wrap:wrap;\n",
              "      gap: 12px;\n",
              "    }\n",
              "\n",
              "    .colab-df-convert {\n",
              "      background-color: #E8F0FE;\n",
              "      border: none;\n",
              "      border-radius: 50%;\n",
              "      cursor: pointer;\n",
              "      display: none;\n",
              "      fill: #1967D2;\n",
              "      height: 32px;\n",
              "      padding: 0 0 0 0;\n",
              "      width: 32px;\n",
              "    }\n",
              "\n",
              "    .colab-df-convert:hover {\n",
              "      background-color: #E2EBFA;\n",
              "      box-shadow: 0px 1px 2px rgba(60, 64, 67, 0.3), 0px 1px 3px 1px rgba(60, 64, 67, 0.15);\n",
              "      fill: #174EA6;\n",
              "    }\n",
              "\n",
              "    [theme=dark] .colab-df-convert {\n",
              "      background-color: #3B4455;\n",
              "      fill: #D2E3FC;\n",
              "    }\n",
              "\n",
              "    [theme=dark] .colab-df-convert:hover {\n",
              "      background-color: #434B5C;\n",
              "      box-shadow: 0px 1px 3px 1px rgba(0, 0, 0, 0.15);\n",
              "      filter: drop-shadow(0px 1px 2px rgba(0, 0, 0, 0.3));\n",
              "      fill: #FFFFFF;\n",
              "    }\n",
              "  </style>\n",
              "\n",
              "      <script>\n",
              "        const buttonEl =\n",
              "          document.querySelector('#df-abfcc7bb-081a-4e92-bb05-5f03ff27fad6 button.colab-df-convert');\n",
              "        buttonEl.style.display =\n",
              "          google.colab.kernel.accessAllowed ? 'block' : 'none';\n",
              "\n",
              "        async function convertToInteractive(key) {\n",
              "          const element = document.querySelector('#df-abfcc7bb-081a-4e92-bb05-5f03ff27fad6');\n",
              "          const dataTable =\n",
              "            await google.colab.kernel.invokeFunction('convertToInteractive',\n",
              "                                                     [key], {});\n",
              "          if (!dataTable) return;\n",
              "\n",
              "          const docLinkHtml = 'Like what you see? Visit the ' +\n",
              "            '<a target=\"_blank\" href=https://colab.research.google.com/notebooks/data_table.ipynb>data table notebook</a>'\n",
              "            + ' to learn more about interactive tables.';\n",
              "          element.innerHTML = '';\n",
              "          dataTable['output_type'] = 'display_data';\n",
              "          await google.colab.output.renderOutput(dataTable, element);\n",
              "          const docLink = document.createElement('div');\n",
              "          docLink.innerHTML = docLinkHtml;\n",
              "          element.appendChild(docLink);\n",
              "        }\n",
              "      </script>\n",
              "    </div>\n",
              "  </div>\n",
              "  "
            ],
            "text/plain": [
              "      user_id  movie_id  rating  timestamp\n",
              "5585     5585        39       4  959277011\n",
              "3873     3873        92       5  965840325\n",
              "41         41       730       4  978041996"
            ]
          },
          "metadata": {},
          "execution_count": 10
        }
      ],
      "source": [
        "test_df.sample(3)"
      ]
    },
    {
      "cell_type": "code",
      "execution_count": 11,
      "id": "c8097d07",
      "metadata": {
        "colab": {
          "base_uri": "https://localhost:8080/",
          "height": 142
        },
        "id": "c8097d07",
        "outputId": "650cebab-fd1b-4c18-adca-5a6b03c18469"
      },
      "outputs": [
        {
          "output_type": "execute_result",
          "data": {
            "text/html": [
              "\n",
              "  <div id=\"df-ea47314d-f8bf-4743-bd13-986bd3cc14ef\">\n",
              "    <div class=\"colab-df-container\">\n",
              "      <div>\n",
              "<style scoped>\n",
              "    .dataframe tbody tr th:only-of-type {\n",
              "        vertical-align: middle;\n",
              "    }\n",
              "\n",
              "    .dataframe tbody tr th {\n",
              "        vertical-align: top;\n",
              "    }\n",
              "\n",
              "    .dataframe thead th {\n",
              "        text-align: right;\n",
              "    }\n",
              "</style>\n",
              "<table border=\"1\" class=\"dataframe\">\n",
              "  <thead>\n",
              "    <tr style=\"text-align: right;\">\n",
              "      <th></th>\n",
              "      <th>user_id</th>\n",
              "      <th>item_id</th>\n",
              "      <th>negative_items</th>\n",
              "      <th>num_of_negative</th>\n",
              "    </tr>\n",
              "  </thead>\n",
              "  <tbody>\n",
              "    <tr>\n",
              "      <th>1084</th>\n",
              "      <td>1084</td>\n",
              "      <td>730</td>\n",
              "      <td>[1500, 785, 1930, 2789, 461, 3539, 1515, 2298,...</td>\n",
              "      <td>99</td>\n",
              "    </tr>\n",
              "    <tr>\n",
              "      <th>222</th>\n",
              "      <td>222</td>\n",
              "      <td>1</td>\n",
              "      <td>[725, 698, 650, 3445, 244, 1789, 3632, 2997, 4...</td>\n",
              "      <td>99</td>\n",
              "    </tr>\n",
              "    <tr>\n",
              "      <th>1975</th>\n",
              "      <td>1975</td>\n",
              "      <td>511</td>\n",
              "      <td>[716, 1969, 881, 2336, 2193, 3551, 3566, 1766,...</td>\n",
              "      <td>99</td>\n",
              "    </tr>\n",
              "  </tbody>\n",
              "</table>\n",
              "</div>\n",
              "      <button class=\"colab-df-convert\" onclick=\"convertToInteractive('df-ea47314d-f8bf-4743-bd13-986bd3cc14ef')\"\n",
              "              title=\"Convert this dataframe to an interactive table.\"\n",
              "              style=\"display:none;\">\n",
              "        \n",
              "  <svg xmlns=\"http://www.w3.org/2000/svg\" height=\"24px\"viewBox=\"0 0 24 24\"\n",
              "       width=\"24px\">\n",
              "    <path d=\"M0 0h24v24H0V0z\" fill=\"none\"/>\n",
              "    <path d=\"M18.56 5.44l.94 2.06.94-2.06 2.06-.94-2.06-.94-.94-2.06-.94 2.06-2.06.94zm-11 1L8.5 8.5l.94-2.06 2.06-.94-2.06-.94L8.5 2.5l-.94 2.06-2.06.94zm10 10l.94 2.06.94-2.06 2.06-.94-2.06-.94-.94-2.06-.94 2.06-2.06.94z\"/><path d=\"M17.41 7.96l-1.37-1.37c-.4-.4-.92-.59-1.43-.59-.52 0-1.04.2-1.43.59L10.3 9.45l-7.72 7.72c-.78.78-.78 2.05 0 2.83L4 21.41c.39.39.9.59 1.41.59.51 0 1.02-.2 1.41-.59l7.78-7.78 2.81-2.81c.8-.78.8-2.07 0-2.86zM5.41 20L4 18.59l7.72-7.72 1.47 1.35L5.41 20z\"/>\n",
              "  </svg>\n",
              "      </button>\n",
              "      \n",
              "  <style>\n",
              "    .colab-df-container {\n",
              "      display:flex;\n",
              "      flex-wrap:wrap;\n",
              "      gap: 12px;\n",
              "    }\n",
              "\n",
              "    .colab-df-convert {\n",
              "      background-color: #E8F0FE;\n",
              "      border: none;\n",
              "      border-radius: 50%;\n",
              "      cursor: pointer;\n",
              "      display: none;\n",
              "      fill: #1967D2;\n",
              "      height: 32px;\n",
              "      padding: 0 0 0 0;\n",
              "      width: 32px;\n",
              "    }\n",
              "\n",
              "    .colab-df-convert:hover {\n",
              "      background-color: #E2EBFA;\n",
              "      box-shadow: 0px 1px 2px rgba(60, 64, 67, 0.3), 0px 1px 3px 1px rgba(60, 64, 67, 0.15);\n",
              "      fill: #174EA6;\n",
              "    }\n",
              "\n",
              "    [theme=dark] .colab-df-convert {\n",
              "      background-color: #3B4455;\n",
              "      fill: #D2E3FC;\n",
              "    }\n",
              "\n",
              "    [theme=dark] .colab-df-convert:hover {\n",
              "      background-color: #434B5C;\n",
              "      box-shadow: 0px 1px 3px 1px rgba(0, 0, 0, 0.15);\n",
              "      filter: drop-shadow(0px 1px 2px rgba(0, 0, 0, 0.3));\n",
              "      fill: #FFFFFF;\n",
              "    }\n",
              "  </style>\n",
              "\n",
              "      <script>\n",
              "        const buttonEl =\n",
              "          document.querySelector('#df-ea47314d-f8bf-4743-bd13-986bd3cc14ef button.colab-df-convert');\n",
              "        buttonEl.style.display =\n",
              "          google.colab.kernel.accessAllowed ? 'block' : 'none';\n",
              "\n",
              "        async function convertToInteractive(key) {\n",
              "          const element = document.querySelector('#df-ea47314d-f8bf-4743-bd13-986bd3cc14ef');\n",
              "          const dataTable =\n",
              "            await google.colab.kernel.invokeFunction('convertToInteractive',\n",
              "                                                     [key], {});\n",
              "          if (!dataTable) return;\n",
              "\n",
              "          const docLinkHtml = 'Like what you see? Visit the ' +\n",
              "            '<a target=\"_blank\" href=https://colab.research.google.com/notebooks/data_table.ipynb>data table notebook</a>'\n",
              "            + ' to learn more about interactive tables.';\n",
              "          element.innerHTML = '';\n",
              "          dataTable['output_type'] = 'display_data';\n",
              "          await google.colab.output.renderOutput(dataTable, element);\n",
              "          const docLink = document.createElement('div');\n",
              "          docLink.innerHTML = docLinkHtml;\n",
              "          element.appendChild(docLink);\n",
              "        }\n",
              "      </script>\n",
              "    </div>\n",
              "  </div>\n",
              "  "
            ],
            "text/plain": [
              "      user_id  ...  num_of_negative\n",
              "1084     1084  ...               99\n",
              "222       222  ...               99\n",
              "1975     1975  ...               99\n",
              "\n",
              "[3 rows x 4 columns]"
            ]
          },
          "metadata": {},
          "execution_count": 11
        }
      ],
      "source": [
        "test_negative_df.sample(3)"
      ]
    },
    {
      "cell_type": "code",
      "source": [
        "train_df.sample(1)"
      ],
      "metadata": {
        "colab": {
          "base_uri": "https://localhost:8080/",
          "height": 80
        },
        "id": "0o7JMdcaVHjH",
        "outputId": "db77d11f-c586-46f6-d4bf-b01d0aa8c012"
      },
      "id": "0o7JMdcaVHjH",
      "execution_count": 12,
      "outputs": [
        {
          "output_type": "execute_result",
          "data": {
            "text/html": [
              "\n",
              "  <div id=\"df-7d7810ab-05e9-491f-afff-e77ec5d3f1f2\">\n",
              "    <div class=\"colab-df-container\">\n",
              "      <div>\n",
              "<style scoped>\n",
              "    .dataframe tbody tr th:only-of-type {\n",
              "        vertical-align: middle;\n",
              "    }\n",
              "\n",
              "    .dataframe tbody tr th {\n",
              "        vertical-align: top;\n",
              "    }\n",
              "\n",
              "    .dataframe thead th {\n",
              "        text-align: right;\n",
              "    }\n",
              "</style>\n",
              "<table border=\"1\" class=\"dataframe\">\n",
              "  <thead>\n",
              "    <tr style=\"text-align: right;\">\n",
              "      <th></th>\n",
              "      <th>user_id</th>\n",
              "      <th>movie_id</th>\n",
              "      <th>rating</th>\n",
              "      <th>timestamp</th>\n",
              "    </tr>\n",
              "  </thead>\n",
              "  <tbody>\n",
              "    <tr>\n",
              "      <th>589802</th>\n",
              "      <td>3617</td>\n",
              "      <td>2819</td>\n",
              "      <td>3</td>\n",
              "      <td>967119032</td>\n",
              "    </tr>\n",
              "  </tbody>\n",
              "</table>\n",
              "</div>\n",
              "      <button class=\"colab-df-convert\" onclick=\"convertToInteractive('df-7d7810ab-05e9-491f-afff-e77ec5d3f1f2')\"\n",
              "              title=\"Convert this dataframe to an interactive table.\"\n",
              "              style=\"display:none;\">\n",
              "        \n",
              "  <svg xmlns=\"http://www.w3.org/2000/svg\" height=\"24px\"viewBox=\"0 0 24 24\"\n",
              "       width=\"24px\">\n",
              "    <path d=\"M0 0h24v24H0V0z\" fill=\"none\"/>\n",
              "    <path d=\"M18.56 5.44l.94 2.06.94-2.06 2.06-.94-2.06-.94-.94-2.06-.94 2.06-2.06.94zm-11 1L8.5 8.5l.94-2.06 2.06-.94-2.06-.94L8.5 2.5l-.94 2.06-2.06.94zm10 10l.94 2.06.94-2.06 2.06-.94-2.06-.94-.94-2.06-.94 2.06-2.06.94z\"/><path d=\"M17.41 7.96l-1.37-1.37c-.4-.4-.92-.59-1.43-.59-.52 0-1.04.2-1.43.59L10.3 9.45l-7.72 7.72c-.78.78-.78 2.05 0 2.83L4 21.41c.39.39.9.59 1.41.59.51 0 1.02-.2 1.41-.59l7.78-7.78 2.81-2.81c.8-.78.8-2.07 0-2.86zM5.41 20L4 18.59l7.72-7.72 1.47 1.35L5.41 20z\"/>\n",
              "  </svg>\n",
              "      </button>\n",
              "      \n",
              "  <style>\n",
              "    .colab-df-container {\n",
              "      display:flex;\n",
              "      flex-wrap:wrap;\n",
              "      gap: 12px;\n",
              "    }\n",
              "\n",
              "    .colab-df-convert {\n",
              "      background-color: #E8F0FE;\n",
              "      border: none;\n",
              "      border-radius: 50%;\n",
              "      cursor: pointer;\n",
              "      display: none;\n",
              "      fill: #1967D2;\n",
              "      height: 32px;\n",
              "      padding: 0 0 0 0;\n",
              "      width: 32px;\n",
              "    }\n",
              "\n",
              "    .colab-df-convert:hover {\n",
              "      background-color: #E2EBFA;\n",
              "      box-shadow: 0px 1px 2px rgba(60, 64, 67, 0.3), 0px 1px 3px 1px rgba(60, 64, 67, 0.15);\n",
              "      fill: #174EA6;\n",
              "    }\n",
              "\n",
              "    [theme=dark] .colab-df-convert {\n",
              "      background-color: #3B4455;\n",
              "      fill: #D2E3FC;\n",
              "    }\n",
              "\n",
              "    [theme=dark] .colab-df-convert:hover {\n",
              "      background-color: #434B5C;\n",
              "      box-shadow: 0px 1px 3px 1px rgba(0, 0, 0, 0.15);\n",
              "      filter: drop-shadow(0px 1px 2px rgba(0, 0, 0, 0.3));\n",
              "      fill: #FFFFFF;\n",
              "    }\n",
              "  </style>\n",
              "\n",
              "      <script>\n",
              "        const buttonEl =\n",
              "          document.querySelector('#df-7d7810ab-05e9-491f-afff-e77ec5d3f1f2 button.colab-df-convert');\n",
              "        buttonEl.style.display =\n",
              "          google.colab.kernel.accessAllowed ? 'block' : 'none';\n",
              "\n",
              "        async function convertToInteractive(key) {\n",
              "          const element = document.querySelector('#df-7d7810ab-05e9-491f-afff-e77ec5d3f1f2');\n",
              "          const dataTable =\n",
              "            await google.colab.kernel.invokeFunction('convertToInteractive',\n",
              "                                                     [key], {});\n",
              "          if (!dataTable) return;\n",
              "\n",
              "          const docLinkHtml = 'Like what you see? Visit the ' +\n",
              "            '<a target=\"_blank\" href=https://colab.research.google.com/notebooks/data_table.ipynb>data table notebook</a>'\n",
              "            + ' to learn more about interactive tables.';\n",
              "          element.innerHTML = '';\n",
              "          dataTable['output_type'] = 'display_data';\n",
              "          await google.colab.output.renderOutput(dataTable, element);\n",
              "          const docLink = document.createElement('div');\n",
              "          docLink.innerHTML = docLinkHtml;\n",
              "          element.appendChild(docLink);\n",
              "        }\n",
              "      </script>\n",
              "    </div>\n",
              "  </div>\n",
              "  "
            ],
            "text/plain": [
              "        user_id  movie_id  rating  timestamp\n",
              "589802     3617      2819       3  967119032"
            ]
          },
          "metadata": {},
          "execution_count": 12
        }
      ]
    },
    {
      "cell_type": "code",
      "source": [
        "# users_items_df = train_df.groupby(['user_id'])['movie_id'].apply(set).reset_index()\n",
        "\n",
        "# users_items_df.sample(3)"
      ],
      "metadata": {
        "colab": {
          "base_uri": "https://localhost:8080/",
          "height": 142
        },
        "id": "LwfkNJzmVZsw",
        "outputId": "40217e84-88e7-45af-bf24-e640cfa57a35"
      },
      "id": "LwfkNJzmVZsw",
      "execution_count": 13,
      "outputs": [
        {
          "output_type": "execute_result",
          "data": {
            "text/html": [
              "\n",
              "  <div id=\"df-a6d1f44c-0fe2-4ceb-97cc-ace720d09351\">\n",
              "    <div class=\"colab-df-container\">\n",
              "      <div>\n",
              "<style scoped>\n",
              "    .dataframe tbody tr th:only-of-type {\n",
              "        vertical-align: middle;\n",
              "    }\n",
              "\n",
              "    .dataframe tbody tr th {\n",
              "        vertical-align: top;\n",
              "    }\n",
              "\n",
              "    .dataframe thead th {\n",
              "        text-align: right;\n",
              "    }\n",
              "</style>\n",
              "<table border=\"1\" class=\"dataframe\">\n",
              "  <thead>\n",
              "    <tr style=\"text-align: right;\">\n",
              "      <th></th>\n",
              "      <th>user_id</th>\n",
              "      <th>movie_id</th>\n",
              "    </tr>\n",
              "  </thead>\n",
              "  <tbody>\n",
              "    <tr>\n",
              "      <th>1152</th>\n",
              "      <td>1152</td>\n",
              "      <td>{128, 897, 898, 3, 134, 263, 1159, 1030, 1162,...</td>\n",
              "    </tr>\n",
              "    <tr>\n",
              "      <th>214</th>\n",
              "      <td>214</td>\n",
              "      <td>{5, 775, 392, 533, 534, 26, 538, 155, 1058, 40...</td>\n",
              "    </tr>\n",
              "    <tr>\n",
              "      <th>4713</th>\n",
              "      <td>4713</td>\n",
              "      <td>{0, 2305, 2049, 1539, 1922, 901, 1542, 7, 258,...</td>\n",
              "    </tr>\n",
              "  </tbody>\n",
              "</table>\n",
              "</div>\n",
              "      <button class=\"colab-df-convert\" onclick=\"convertToInteractive('df-a6d1f44c-0fe2-4ceb-97cc-ace720d09351')\"\n",
              "              title=\"Convert this dataframe to an interactive table.\"\n",
              "              style=\"display:none;\">\n",
              "        \n",
              "  <svg xmlns=\"http://www.w3.org/2000/svg\" height=\"24px\"viewBox=\"0 0 24 24\"\n",
              "       width=\"24px\">\n",
              "    <path d=\"M0 0h24v24H0V0z\" fill=\"none\"/>\n",
              "    <path d=\"M18.56 5.44l.94 2.06.94-2.06 2.06-.94-2.06-.94-.94-2.06-.94 2.06-2.06.94zm-11 1L8.5 8.5l.94-2.06 2.06-.94-2.06-.94L8.5 2.5l-.94 2.06-2.06.94zm10 10l.94 2.06.94-2.06 2.06-.94-2.06-.94-.94-2.06-.94 2.06-2.06.94z\"/><path d=\"M17.41 7.96l-1.37-1.37c-.4-.4-.92-.59-1.43-.59-.52 0-1.04.2-1.43.59L10.3 9.45l-7.72 7.72c-.78.78-.78 2.05 0 2.83L4 21.41c.39.39.9.59 1.41.59.51 0 1.02-.2 1.41-.59l7.78-7.78 2.81-2.81c.8-.78.8-2.07 0-2.86zM5.41 20L4 18.59l7.72-7.72 1.47 1.35L5.41 20z\"/>\n",
              "  </svg>\n",
              "      </button>\n",
              "      \n",
              "  <style>\n",
              "    .colab-df-container {\n",
              "      display:flex;\n",
              "      flex-wrap:wrap;\n",
              "      gap: 12px;\n",
              "    }\n",
              "\n",
              "    .colab-df-convert {\n",
              "      background-color: #E8F0FE;\n",
              "      border: none;\n",
              "      border-radius: 50%;\n",
              "      cursor: pointer;\n",
              "      display: none;\n",
              "      fill: #1967D2;\n",
              "      height: 32px;\n",
              "      padding: 0 0 0 0;\n",
              "      width: 32px;\n",
              "    }\n",
              "\n",
              "    .colab-df-convert:hover {\n",
              "      background-color: #E2EBFA;\n",
              "      box-shadow: 0px 1px 2px rgba(60, 64, 67, 0.3), 0px 1px 3px 1px rgba(60, 64, 67, 0.15);\n",
              "      fill: #174EA6;\n",
              "    }\n",
              "\n",
              "    [theme=dark] .colab-df-convert {\n",
              "      background-color: #3B4455;\n",
              "      fill: #D2E3FC;\n",
              "    }\n",
              "\n",
              "    [theme=dark] .colab-df-convert:hover {\n",
              "      background-color: #434B5C;\n",
              "      box-shadow: 0px 1px 3px 1px rgba(0, 0, 0, 0.15);\n",
              "      filter: drop-shadow(0px 1px 2px rgba(0, 0, 0, 0.3));\n",
              "      fill: #FFFFFF;\n",
              "    }\n",
              "  </style>\n",
              "\n",
              "      <script>\n",
              "        const buttonEl =\n",
              "          document.querySelector('#df-a6d1f44c-0fe2-4ceb-97cc-ace720d09351 button.colab-df-convert');\n",
              "        buttonEl.style.display =\n",
              "          google.colab.kernel.accessAllowed ? 'block' : 'none';\n",
              "\n",
              "        async function convertToInteractive(key) {\n",
              "          const element = document.querySelector('#df-a6d1f44c-0fe2-4ceb-97cc-ace720d09351');\n",
              "          const dataTable =\n",
              "            await google.colab.kernel.invokeFunction('convertToInteractive',\n",
              "                                                     [key], {});\n",
              "          if (!dataTable) return;\n",
              "\n",
              "          const docLinkHtml = 'Like what you see? Visit the ' +\n",
              "            '<a target=\"_blank\" href=https://colab.research.google.com/notebooks/data_table.ipynb>data table notebook</a>'\n",
              "            + ' to learn more about interactive tables.';\n",
              "          element.innerHTML = '';\n",
              "          dataTable['output_type'] = 'display_data';\n",
              "          await google.colab.output.renderOutput(dataTable, element);\n",
              "          const docLink = document.createElement('div');\n",
              "          docLink.innerHTML = docLinkHtml;\n",
              "          element.appendChild(docLink);\n",
              "        }\n",
              "      </script>\n",
              "    </div>\n",
              "  </div>\n",
              "  "
            ],
            "text/plain": [
              "      user_id                                           movie_id\n",
              "1152     1152  {128, 897, 898, 3, 134, 263, 1159, 1030, 1162,...\n",
              "214       214  {5, 775, 392, 533, 534, 26, 538, 155, 1058, 40...\n",
              "4713     4713  {0, 2305, 2049, 1539, 1922, 901, 1542, 7, 258,..."
            ]
          },
          "metadata": {},
          "execution_count": 13
        }
      ]
    },
    {
      "cell_type": "code",
      "source": [
        ""
      ],
      "metadata": {
        "colab": {
          "base_uri": "https://localhost:8080/"
        },
        "id": "1N138nYkVbgX",
        "outputId": "1e94a8ec-b0fd-400e-acc0-44bf89ba445d"
      },
      "id": "1N138nYkVbgX",
      "execution_count": 14,
      "outputs": [
        {
          "output_type": "execute_result",
          "data": {
            "text/plain": [
              "6040"
            ]
          },
          "metadata": {},
          "execution_count": 14
        }
      ]
    },
    {
      "cell_type": "code",
      "execution_count": 57,
      "id": "0fc9e576",
      "metadata": {
        "id": "0fc9e576"
      },
      "outputs": [],
      "source": [
        "\n",
        "def build_dataset(source_df, num_of_negative_per_positive):\n",
        "\n",
        "  user_items_dict = source_df.groupby(['user_id'])['movie_id'].apply(set).reset_index().to_dict('index')\n",
        "\n",
        "  all_items = set(source_df['movie_id'].tolist())\n",
        "\n",
        "  dataset_rows = []\n",
        "\n",
        "  for (_, user_rating_row) in source_df.iterrows():\n",
        "      \n",
        "      user_id = user_rating_row['user_id']\n",
        "      item_id = user_rating_row['movie_id'] \n",
        "      \n",
        "      user_items = user_items_dict[user_id]['movie_id']\n",
        "      dataset_rows.append((user_id, item_id, 1))\n",
        "          \n",
        "      user_uninteracted_items = list(all_items - user_items)\n",
        "      \n",
        "      user_selected_uninteraccted_items = np.random.choice(user_uninteracted_items, num_of_negative_per_positive, replace=False)\n",
        "      \n",
        "      \n",
        "      for item_id in user_selected_uninteraccted_items:\n",
        "          dataset_rows.append((user_id, item_id, 0))\n",
        "          \n",
        "          \n",
        "\n",
        "  train_dataset_df = pd.DataFrame(dataset_rows, columns =['user_id', 'item_id', 'label'])\n",
        "\n",
        "  return train_dataset_df\n",
        "\n"
      ]
    },
    {
      "cell_type": "code",
      "source": [
        "train_dataset_df = build_dataset(train_df, 4)\n",
        "\n",
        "train_dataset_df.shape, train_df.shape"
      ],
      "metadata": {
        "colab": {
          "base_uri": "https://localhost:8080/"
        },
        "id": "DptVkN15OMVp",
        "outputId": "7f2bfa77-f5ca-4604-d794-69727a5acad2"
      },
      "id": "DptVkN15OMVp",
      "execution_count": 58,
      "outputs": [
        {
          "output_type": "execute_result",
          "data": {
            "text/plain": [
              "((4970845, 3), (994169, 4))"
            ]
          },
          "metadata": {},
          "execution_count": 58
        }
      ]
    },
    {
      "cell_type": "code",
      "source": [
        "test_user_movies_df = test_df.groupby('user_id')['movie_id'].apply(list).reset_index()\n",
        "\n",
        "test_user_movies_df"
      ],
      "metadata": {
        "id": "TDJo152-S6bW",
        "outputId": "4fa259e1-d3b9-4ed5-c8cf-616fd97f97b7",
        "colab": {
          "base_uri": "https://localhost:8080/",
          "height": 111
        }
      },
      "id": "TDJo152-S6bW",
      "execution_count": 61,
      "outputs": [
        {
          "output_type": "execute_result",
          "data": {
            "text/html": [
              "\n",
              "  <div id=\"df-b386360c-b9f6-4da6-bfa6-e6997b7d26c8\">\n",
              "    <div class=\"colab-df-container\">\n",
              "      <div>\n",
              "<style scoped>\n",
              "    .dataframe tbody tr th:only-of-type {\n",
              "        vertical-align: middle;\n",
              "    }\n",
              "\n",
              "    .dataframe tbody tr th {\n",
              "        vertical-align: top;\n",
              "    }\n",
              "\n",
              "    .dataframe thead th {\n",
              "        text-align: right;\n",
              "    }\n",
              "</style>\n",
              "<table border=\"1\" class=\"dataframe\">\n",
              "  <thead>\n",
              "    <tr style=\"text-align: right;\">\n",
              "      <th></th>\n",
              "      <th>user_id</th>\n",
              "      <th>movie_id</th>\n",
              "    </tr>\n",
              "  </thead>\n",
              "  <tbody>\n",
              "    <tr>\n",
              "      <th>3780</th>\n",
              "      <td>3780</td>\n",
              "      <td>[1672]</td>\n",
              "    </tr>\n",
              "    <tr>\n",
              "      <th>2282</th>\n",
              "      <td>2282</td>\n",
              "      <td>[307]</td>\n",
              "    </tr>\n",
              "  </tbody>\n",
              "</table>\n",
              "</div>\n",
              "      <button class=\"colab-df-convert\" onclick=\"convertToInteractive('df-b386360c-b9f6-4da6-bfa6-e6997b7d26c8')\"\n",
              "              title=\"Convert this dataframe to an interactive table.\"\n",
              "              style=\"display:none;\">\n",
              "        \n",
              "  <svg xmlns=\"http://www.w3.org/2000/svg\" height=\"24px\"viewBox=\"0 0 24 24\"\n",
              "       width=\"24px\">\n",
              "    <path d=\"M0 0h24v24H0V0z\" fill=\"none\"/>\n",
              "    <path d=\"M18.56 5.44l.94 2.06.94-2.06 2.06-.94-2.06-.94-.94-2.06-.94 2.06-2.06.94zm-11 1L8.5 8.5l.94-2.06 2.06-.94-2.06-.94L8.5 2.5l-.94 2.06-2.06.94zm10 10l.94 2.06.94-2.06 2.06-.94-2.06-.94-.94-2.06-.94 2.06-2.06.94z\"/><path d=\"M17.41 7.96l-1.37-1.37c-.4-.4-.92-.59-1.43-.59-.52 0-1.04.2-1.43.59L10.3 9.45l-7.72 7.72c-.78.78-.78 2.05 0 2.83L4 21.41c.39.39.9.59 1.41.59.51 0 1.02-.2 1.41-.59l7.78-7.78 2.81-2.81c.8-.78.8-2.07 0-2.86zM5.41 20L4 18.59l7.72-7.72 1.47 1.35L5.41 20z\"/>\n",
              "  </svg>\n",
              "      </button>\n",
              "      \n",
              "  <style>\n",
              "    .colab-df-container {\n",
              "      display:flex;\n",
              "      flex-wrap:wrap;\n",
              "      gap: 12px;\n",
              "    }\n",
              "\n",
              "    .colab-df-convert {\n",
              "      background-color: #E8F0FE;\n",
              "      border: none;\n",
              "      border-radius: 50%;\n",
              "      cursor: pointer;\n",
              "      display: none;\n",
              "      fill: #1967D2;\n",
              "      height: 32px;\n",
              "      padding: 0 0 0 0;\n",
              "      width: 32px;\n",
              "    }\n",
              "\n",
              "    .colab-df-convert:hover {\n",
              "      background-color: #E2EBFA;\n",
              "      box-shadow: 0px 1px 2px rgba(60, 64, 67, 0.3), 0px 1px 3px 1px rgba(60, 64, 67, 0.15);\n",
              "      fill: #174EA6;\n",
              "    }\n",
              "\n",
              "    [theme=dark] .colab-df-convert {\n",
              "      background-color: #3B4455;\n",
              "      fill: #D2E3FC;\n",
              "    }\n",
              "\n",
              "    [theme=dark] .colab-df-convert:hover {\n",
              "      background-color: #434B5C;\n",
              "      box-shadow: 0px 1px 3px 1px rgba(0, 0, 0, 0.15);\n",
              "      filter: drop-shadow(0px 1px 2px rgba(0, 0, 0, 0.3));\n",
              "      fill: #FFFFFF;\n",
              "    }\n",
              "  </style>\n",
              "\n",
              "      <script>\n",
              "        const buttonEl =\n",
              "          document.querySelector('#df-b386360c-b9f6-4da6-bfa6-e6997b7d26c8 button.colab-df-convert');\n",
              "        buttonEl.style.display =\n",
              "          google.colab.kernel.accessAllowed ? 'block' : 'none';\n",
              "\n",
              "        async function convertToInteractive(key) {\n",
              "          const element = document.querySelector('#df-b386360c-b9f6-4da6-bfa6-e6997b7d26c8');\n",
              "          const dataTable =\n",
              "            await google.colab.kernel.invokeFunction('convertToInteractive',\n",
              "                                                     [key], {});\n",
              "          if (!dataTable) return;\n",
              "\n",
              "          const docLinkHtml = 'Like what you see? Visit the ' +\n",
              "            '<a target=\"_blank\" href=https://colab.research.google.com/notebooks/data_table.ipynb>data table notebook</a>'\n",
              "            + ' to learn more about interactive tables.';\n",
              "          element.innerHTML = '';\n",
              "          dataTable['output_type'] = 'display_data';\n",
              "          await google.colab.output.renderOutput(dataTable, element);\n",
              "          const docLink = document.createElement('div');\n",
              "          docLink.innerHTML = docLinkHtml;\n",
              "          element.appendChild(docLink);\n",
              "        }\n",
              "      </script>\n",
              "    </div>\n",
              "  </div>\n",
              "  "
            ],
            "text/plain": [
              "      user_id movie_id\n",
              "3780     3780   [1672]\n",
              "2282     2282    [307]"
            ]
          },
          "metadata": {},
          "execution_count": 61
        }
      ]
    },
    {
      "cell_type": "code",
      "execution_count": 64,
      "id": "18ade24b",
      "metadata": {
        "id": "18ade24b"
      },
      "outputs": [],
      "source": [
        "class DatasetLoader(Dataset):\n",
        "    \n",
        "    def __init__(self, df):\n",
        "        self._df = df.sample(frac=1.0)\n",
        "    \n",
        "    def __len__(self):\n",
        "        return len(self._df)\n",
        "    \n",
        "    def __getitem__(self, idx):\n",
        "        \n",
        "        row = self._df.iloc[idx]\n",
        "        item_id = row['item_id']\n",
        "        user_id = row['user_id']\n",
        "        label = row['label']\n",
        "        \n",
        "        \n",
        "        return item_id, user_id, label"
      ]
    },
    {
      "cell_type": "code",
      "execution_count": 65,
      "id": "6aecfe9f",
      "metadata": {
        "colab": {
          "base_uri": "https://localhost:8080/"
        },
        "id": "6aecfe9f",
        "outputId": "8fe0a569-94e1-49cf-d78e-279deb05ae8b"
      },
      "outputs": [
        {
          "output_type": "execute_result",
          "data": {
            "text/plain": [
              "(6040, 3706, 256, device(type='cuda'))"
            ]
          },
          "metadata": {},
          "execution_count": 65
        }
      ],
      "source": [
        "n_users = np.max(train_df.user_id.tolist()) + 1\n",
        "n_items = np.max(train_df.movie_id.tolist()) + 1\n",
        "device = torch.device('cuda' if torch.cuda.is_available() else 'cpu')\n",
        "\n",
        "BATCH_SIZE = 256\n",
        "n_users, n_items, BATCH_SIZE, device"
      ]
    },
    {
      "cell_type": "code",
      "source": [
        "true_items_ratio_in_trainning_dataset = train_dataset_df[train_dataset_df['label'] ==1].shape[0]/train_dataset_df.shape[0]\n",
        "'true_items_ratio_in_trainning_dataset: {}'.format(true_items_ratio_in_trainning_dataset)"
      ],
      "metadata": {
        "colab": {
          "base_uri": "https://localhost:8080/",
          "height": 35
        },
        "id": "q4htA7m4Khgr",
        "outputId": "f4c1725a-86df-4047-834a-eb8bab4dc920"
      },
      "id": "q4htA7m4Khgr",
      "execution_count": 66,
      "outputs": [
        {
          "output_type": "execute_result",
          "data": {
            "application/vnd.google.colaboratory.intrinsic+json": {
              "type": "string"
            },
            "text/plain": [
              "'true_items_ratio_in_trainning_dataset: 0.2'"
            ]
          },
          "metadata": {},
          "execution_count": 66
        }
      ]
    },
    {
      "cell_type": "code",
      "execution_count": 67,
      "id": "df29419e",
      "metadata": {
        "id": "df29419e"
      },
      "outputs": [],
      "source": [
        "\n",
        "train_dataset = DatasetLoader(train_dataset_df)\n",
        "\n",
        "train_data_loader = DataLoader(train_dataset, batch_size=BATCH_SIZE, shuffle=True, num_workers=0)\n"
      ]
    },
    {
      "cell_type": "markdown",
      "id": "5d2d9c65",
      "metadata": {
        "id": "5d2d9c65"
      },
      "source": [
        "<br><br><br>\n",
        "<br><br><br>\n",
        "<br><br><br>"
      ]
    },
    {
      "cell_type": "markdown",
      "id": "9b145b21",
      "metadata": {
        "id": "9b145b21"
      },
      "source": [
        "## Question 2: Neural Collaborative Filtering \n",
        "<br><br>"
      ]
    },
    {
      "cell_type": "markdown",
      "id": "e79759b6",
      "metadata": {
        "id": "e79759b6"
      },
      "source": [
        "## a. Build the following four models using the neural collaborative filtering approach: \n",
        "- Matrix Factorization (MF)\n",
        "- Multi layer perceptron (MLP)\n",
        "- Generalized Matrix Factorization (GMF) \n",
        "- NeuroMatrixFactorization (NMF)\n"
      ]
    },
    {
      "cell_type": "markdown",
      "id": "cb27f98b",
      "metadata": {
        "id": "cb27f98b"
      },
      "source": [
        "<br><br><br><br>\n",
        "**Matrix Factorization (MF)**\n",
        "\n",
        "<br>\n",
        "\n",
        "![image.png](attachment:image.png)"
      ]
    },
    {
      "cell_type": "code",
      "execution_count": 68,
      "id": "76f21701",
      "metadata": {
        "id": "76f21701"
      },
      "outputs": [],
      "source": [
        "class MF(nn.Module):\n",
        "    def __init__(self, n_users, n_items, n_latent):\n",
        "        super(MF, self).__init__()\n",
        "\n",
        "        self.users_embeddings = Embedding(n_users, n_latent)\n",
        "        self.items_embeddings = Embedding(n_items, n_latent)\n",
        "\n",
        "        self.fc1 = Linear(n_latent, 1)\n",
        "        self.af = Sigmoid()\n",
        "\n",
        "    def forward(self, users_ids, items_ids):\n",
        "        users_latens = self.users_embeddings(users_ids)\n",
        "        items_latents = self.items_embeddings(items_ids)\n",
        "\n",
        "        x = torch.mul(users_latens, items_latents)\n",
        "        x = self.fc1(x)\n",
        "        x = self.af(x)\n",
        "\n",
        "        \n",
        "model_MF = MF(n_users,n_items, 8)"
      ]
    },
    {
      "cell_type": "markdown",
      "id": "640fafa8",
      "metadata": {
        "id": "640fafa8"
      },
      "source": [
        "<br><br><br><br><br><br>\n",
        "**Multi Layer Perceptron (MLP)**\n",
        "<br>\n",
        "![image.png](attachment:image.png)"
      ]
    },
    {
      "cell_type": "code",
      "execution_count": 69,
      "id": "53fa3383",
      "metadata": {
        "id": "53fa3383"
      },
      "outputs": [],
      "source": [
        "class MLP(nn.Module):\n",
        "    def __init__(self, n_users, n_items, n_latent=8, fc_layers=[32, 16, 8]):\n",
        "        super(MLP, self).__init__()\n",
        "\n",
        "        self.users_embeddings = Embedding(n_users, n_latent)\n",
        "        self.items_embeddings = Embedding(n_items, n_latent)\n",
        "\n",
        "        self.fc_layers = torch.nn.ModuleList()\n",
        "\n",
        "        for idx, (in_size, out_size) in enumerate(zip(fc_layers[:-1], fc_layers[1:])):\n",
        "            self.fc_layers.append(torch.nn.Linear(in_size, out_size))\n",
        "\n",
        "        self.affine_output = torch.nn.Linear(in_features=fc_layers[-1], out_features=1)\n",
        "\n",
        "        self.af = Sigmoid()\n",
        "\n",
        "    def forward(self, users_ids, items_ids):\n",
        "\n",
        "        user_embedding = self.users_embeddings(users_ids)\n",
        "        item_embedding = self.items_embeddings(items_ids)\n",
        "\n",
        "        vector = torch.cat([user_embedding, item_embedding], dim=-1)\n",
        "        for idx, _ in enumerate(range(len(self.fc_layers))):\n",
        "            vector = self.fc_layers[idx](vector)\n",
        "            vector = torch.nn.ReLU()(vector)\n",
        "\n",
        "        vector = self.affine_output(vector)\n",
        "        rating = self.af(vector)\n",
        "        return rating\n",
        "\n",
        "    \n",
        " \n",
        "model_MLP = MLP(n_users,n_items, n_latent = 8, fc_layers = [16, 32, 16, 8, 1])"
      ]
    },
    {
      "cell_type": "markdown",
      "id": "93fe59b2",
      "metadata": {
        "id": "93fe59b2"
      },
      "source": [
        "<br><br><br><br><br><br>\n",
        "**Generalized Matrix Factorization (GMF)**\n",
        "<br>\n",
        "![image.png](attachment:image.png)"
      ]
    },
    {
      "cell_type": "code",
      "execution_count": 70,
      "id": "899fe672",
      "metadata": {
        "id": "899fe672"
      },
      "outputs": [],
      "source": [
        "class GMF(torch.nn.Module):\n",
        "    \n",
        "    def __init__(self, n_users, n_items, n_latent):\n",
        "    \n",
        "        super(GMF, self).__init__()\n",
        "\n",
        "        self.users_embeddings = torch.nn.Embedding(num_embeddings=n_users, embedding_dim=n_latent)\n",
        "        self.items_embeddings = torch.nn.Embedding(num_embeddings=n_items, embedding_dim=n_latent)\n",
        "\n",
        "        self.fc1 = torch.nn.Linear(in_features=n_latent, out_features=1)\n",
        "        self.dp1 = nn.Dropout(p=0.2)\n",
        "        self.sig = torch.nn.Sigmoid()\n",
        "\n",
        "    def forward(self, user_indices, item_indices):\n",
        "        \n",
        "        \n",
        "        users_embedding = self.users_embeddings(user_indices)\n",
        "        items_embedding = self.items_embeddings(item_indices)\n",
        "        \n",
        "        users_items_product = torch.mul(users_embedding, items_embedding)\n",
        "        users_items_product = self.dp1(users_items_product)\n",
        "        \n",
        "        logits = self.fc1(users_items_product)\n",
        "        rating = self.sig(logits)\n",
        "        return rating\n",
        "\n",
        "\n",
        "model_GMF = GMF(n_users,n_items, n_latent = 8)"
      ]
    },
    {
      "cell_type": "markdown",
      "id": "27e9b25d",
      "metadata": {
        "id": "27e9b25d"
      },
      "source": [
        "<br><br><br><br><br><br>\n",
        "**NeuroMatrixFactorization (NMF)**\n",
        "\n",
        "<br>\n",
        "\n",
        "![image.png](attachment:image.png)"
      ]
    },
    {
      "cell_type": "code",
      "execution_count": 71,
      "id": "0740e37f",
      "metadata": {
        "id": "0740e37f"
      },
      "outputs": [],
      "source": [
        "class NMF(torch.nn.Module):\n",
        "    def __init__(self, n_users, n_items, n_latent_mf, n_latent_mlp, layers):\n",
        "        \n",
        "        super(NMF, self).__init__()\n",
        "\n",
        "        self.users_embedding_mlp = torch.nn.Embedding(num_embeddings=n_users, embedding_dim=n_latent_mlp)\n",
        "        self.items_embedding_mlp = torch.nn.Embedding(num_embeddings=n_items, embedding_dim=n_latent_mlp)\n",
        "        \n",
        "        self.users_embedding_mf =  torch.nn.Embedding(num_embeddings=n_users, embedding_dim=n_latent_mf)\n",
        "        self.items_embedding_mf =  torch.nn.Embedding(num_embeddings=n_items, embedding_dim=n_latent_mf)\n",
        "\n",
        "        self.fc_layers = torch.nn.ModuleList()\n",
        "        for (in_size, out_size) in zip(layers[:-1], layers[1:]):\n",
        "            self.fc_layers.append(torch.nn.Linear(in_size, out_size))\n",
        "        \n",
        "        \n",
        "        \n",
        "        self.affine_output = torch.nn.Linear(in_features=layers[-1] +  n_latent_mf, out_features=1)\n",
        "        self.sig1 = torch.nn.Sigmoid()\n",
        "\n",
        "    def forward(self, user_indices, item_indices):\n",
        "        \n",
        "        user_embedding_mlp = self.users_embedding_mlp(user_indices)\n",
        "        item_embedding_mlp = self.items_embedding_mlp(item_indices)\n",
        "        \n",
        "        user_embedding_mf = self.users_embedding_mf(user_indices)\n",
        "        item_embedding_mf = self.items_embedding_mf(item_indices)\n",
        "\n",
        "        mlp_vector = torch.cat([user_embedding_mlp, item_embedding_mlp], dim=-1) \n",
        "        \n",
        "        mf_vector = torch.mul(user_embedding_mf, item_embedding_mf)\n",
        "\n",
        "        for idx, _ in enumerate(range(len(self.fc_layers))):\n",
        "            mlp_vector = self.fc_layers[idx](mlp_vector)\n",
        "            mlp_vector = torch.nn.ReLU()(mlp_vector)\n",
        "\n",
        "        vector = torch.cat([mlp_vector, mf_vector], dim=-1)\n",
        "        logits = self.affine_output(vector)\n",
        "        \n",
        "        rating = self.sig1(logits)\n",
        "        return rating\n",
        "    \n",
        "\n",
        "model_NMF = NMF(n_users, n_items, 8, 8, [16,32, 8])"
      ]
    },
    {
      "cell_type": "markdown",
      "id": "bc4fe483",
      "metadata": {
        "id": "bc4fe483"
      },
      "source": [
        "<br><br><br><br><br><br>"
      ]
    },
    {
      "cell_type": "markdown",
      "id": "ed436aa4",
      "metadata": {
        "id": "ed436aa4"
      },
      "source": [
        "## b. Train and evaluate the recommendations accuracy of the models: \n",
        "- MF\n",
        "- GMF\n",
        "- MLP\n",
        "- NMF\n",
        "\n",
        "Compare the learning curve and recommendations accuracy using NDCG and MRR metrics with cutoff values of 5 and 10.   \n",
        "Discuss the comparison. "
      ]
    },
    {
      "cell_type": "markdown",
      "id": "5e47932c",
      "metadata": {
        "id": "5e47932c"
      },
      "source": [
        "**Metrics:**\n",
        "- HitRatio\n",
        "- nDCG\n",
        "- MRR"
      ]
    },
    {
      "cell_type": "code",
      "execution_count": 76,
      "id": "720a1064",
      "metadata": {
        "id": "720a1064"
      },
      "outputs": [],
      "source": [
        "def train(model, lr=0.001, n_epochs = 20):\n",
        "\n",
        "    model.to(device)\n",
        "\n",
        "    criterion = nn.BCELoss()\n",
        "    criterion.to(device)\n",
        "\n",
        "    optimizer = Adam(model.parameters(), lr=lr)\n",
        "    loss_values = []\n",
        "    liveloss = PlotLosses()\n",
        "\n",
        "    for epoch in range(n_epochs): \n",
        "\n",
        "        running_loss = 0.0\n",
        "        for i, (items_ids, users_ids, labels) in enumerate(train_data_loader, 0):\n",
        "\n",
        "            labels = labels.float().to(device)\n",
        "            items_ids = items_ids.to(device)\n",
        "            users_ids = users_ids.to(device)\n",
        "\n",
        "\n",
        "            optimizer.zero_grad()\n",
        "            outputs = model(users_ids, items_ids).flatten()\n",
        "\n",
        "            loss = criterion(outputs, labels)\n",
        "            loss.backward()\n",
        "\n",
        "            optimizer.step()\n",
        "\n",
        "            running_loss += loss.detach().cpu().item()\n",
        "\n",
        "        epoc_loss = running_loss / len(train_data_loader)\n",
        "        loss_values.append(epoc_loss)\n",
        "        liveloss.update({'loss': epoc_loss})\n",
        "      \n",
        "    return loss_values"
      ]
    },
    {
      "cell_type": "code",
      "source": [
        "nmf_loss = train(model_NMF, n_epochs=3)\n",
        "len(nmf_loss)"
      ],
      "metadata": {
        "id": "ddqPqX5wKdrH"
      },
      "id": "ddqPqX5wKdrH",
      "execution_count": null,
      "outputs": []
    },
    {
      "cell_type": "code",
      "execution_count": null,
      "id": "e7fe4df0",
      "metadata": {
        "id": "e7fe4df0"
      },
      "outputs": [],
      "source": [
        "# Use your own metrics implementation OR use external packages for the metrics.\n",
        "# If you are using external packages make sure they work properly. \n",
        "# A lot of the packages available does not work as you would expect."
      ]
    },
    {
      "cell_type": "markdown",
      "id": "1524a192",
      "metadata": {
        "id": "1524a192"
      },
      "source": [
        "**Evaluation:**"
      ]
    },
    {
      "cell_type": "code",
      "execution_count": null,
      "id": "caf88c6d",
      "metadata": {
        "id": "caf88c6d"
      },
      "outputs": [],
      "source": [
        "def hit_raion(model)\n",
        "\n",
        "for (model, model_name) in []:"
      ]
    },
    {
      "cell_type": "code",
      "execution_count": null,
      "id": "57f3ecdc",
      "metadata": {
        "id": "57f3ecdc"
      },
      "outputs": [],
      "source": [
        ""
      ]
    },
    {
      "cell_type": "markdown",
      "id": "0bff01f3",
      "metadata": {
        "id": "0bff01f3"
      },
      "source": [
        "**HyperParams:**"
      ]
    },
    {
      "cell_type": "code",
      "execution_count": null,
      "id": "a39e3a3b",
      "metadata": {
        "id": "a39e3a3b"
      },
      "outputs": [],
      "source": [
        "# the choosen hyperparams will effect your models & your grade "
      ]
    },
    {
      "cell_type": "markdown",
      "id": "046e4de9",
      "metadata": {
        "id": "046e4de9"
      },
      "source": [
        "<br><br>\n",
        "Create train data:"
      ]
    },
    {
      "cell_type": "code",
      "execution_count": null,
      "id": "771f77ef",
      "metadata": {
        "id": "771f77ef"
      },
      "outputs": [],
      "source": [
        ""
      ]
    },
    {
      "cell_type": "markdown",
      "id": "82683e33",
      "metadata": {
        "id": "82683e33"
      },
      "source": [
        "<br><br>\n",
        "train & eval:"
      ]
    },
    {
      "cell_type": "code",
      "execution_count": null,
      "id": "cd395003",
      "metadata": {
        "id": "cd395003"
      },
      "outputs": [],
      "source": [
        ""
      ]
    },
    {
      "cell_type": "markdown",
      "id": "7371f42b",
      "metadata": {
        "id": "7371f42b"
      },
      "source": [
        "<br><br><br><br>\n",
        "<br><br><br><br>\n",
        "<br><br><br><br>\n",
        "All Results:"
      ]
    },
    {
      "cell_type": "code",
      "execution_count": null,
      "id": "27f469d4",
      "metadata": {
        "id": "27f469d4",
        "outputId": "87473467-104a-4e02-b17b-09e1f1ef7f06"
      },
      "outputs": [
        {
          "data": {
            "text/html": [
              "<div>\n",
              "<style scoped>\n",
              "    .dataframe tbody tr th:only-of-type {\n",
              "        vertical-align: middle;\n",
              "    }\n",
              "\n",
              "    .dataframe tbody tr th {\n",
              "        vertical-align: top;\n",
              "    }\n",
              "\n",
              "    .dataframe thead th {\n",
              "        text-align: right;\n",
              "    }\n",
              "</style>\n",
              "<table border=\"1\" class=\"dataframe\">\n",
              "  <thead>\n",
              "    <tr style=\"text-align: right;\">\n",
              "      <th></th>\n",
              "      <th>model</th>\n",
              "      <th>topk</th>\n",
              "      <th>metric</th>\n",
              "      <th>score</th>\n",
              "    </tr>\n",
              "  </thead>\n",
              "  <tbody>\n",
              "    <tr>\n",
              "      <th>0</th>\n",
              "      <td>MF</td>\n",
              "      <td>0</td>\n",
              "      <td>TIME</td>\n",
              "      <td>2.68642e+06</td>\n",
              "    </tr>\n",
              "    <tr>\n",
              "      <th>1</th>\n",
              "      <td>MF</td>\n",
              "      <td>0</td>\n",
              "      <td>LOSS</td>\n",
              "      <td>[1.7666953802108765, 1.7452603578567505, 1.743...</td>\n",
              "    </tr>\n",
              "    <tr>\n",
              "      <th>2</th>\n",
              "      <td>MF</td>\n",
              "      <td>5</td>\n",
              "      <td>HR</td>\n",
              "      <td>0.22798</td>\n",
              "    </tr>\n",
              "    <tr>\n",
              "      <th>3</th>\n",
              "      <td>MF</td>\n",
              "      <td>5</td>\n",
              "      <td>NDCG</td>\n",
              "      <td>0.153461</td>\n",
              "    </tr>\n",
              "    <tr>\n",
              "      <th>4</th>\n",
              "      <td>MF</td>\n",
              "      <td>5</td>\n",
              "      <td>MRR</td>\n",
              "      <td>0.129026</td>\n",
              "    </tr>\n",
              "    <tr>\n",
              "      <th>5</th>\n",
              "      <td>MF</td>\n",
              "      <td>10</td>\n",
              "      <td>HR</td>\n",
              "      <td>0.322682</td>\n",
              "    </tr>\n",
              "    <tr>\n",
              "      <th>6</th>\n",
              "      <td>MF</td>\n",
              "      <td>10</td>\n",
              "      <td>NDCG</td>\n",
              "      <td>0.184213</td>\n",
              "    </tr>\n",
              "    <tr>\n",
              "      <th>7</th>\n",
              "      <td>MF</td>\n",
              "      <td>10</td>\n",
              "      <td>MRR</td>\n",
              "      <td>0.141787</td>\n",
              "    </tr>\n",
              "    <tr>\n",
              "      <th>8</th>\n",
              "      <td>MLP</td>\n",
              "      <td>0</td>\n",
              "      <td>TIME</td>\n",
              "      <td>2.68642e+06</td>\n",
              "    </tr>\n",
              "    <tr>\n",
              "      <th>9</th>\n",
              "      <td>MLP</td>\n",
              "      <td>0</td>\n",
              "      <td>LOSS</td>\n",
              "      <td>[0.3481043875217438, 0.31486931443214417, 0.29...</td>\n",
              "    </tr>\n",
              "    <tr>\n",
              "      <th>10</th>\n",
              "      <td>MLP</td>\n",
              "      <td>5</td>\n",
              "      <td>HR</td>\n",
              "      <td>0.438907</td>\n",
              "    </tr>\n",
              "    <tr>\n",
              "      <th>11</th>\n",
              "      <td>MLP</td>\n",
              "      <td>5</td>\n",
              "      <td>NDCG</td>\n",
              "      <td>0.295665</td>\n",
              "    </tr>\n",
              "    <tr>\n",
              "      <th>12</th>\n",
              "      <td>MLP</td>\n",
              "      <td>5</td>\n",
              "      <td>MRR</td>\n",
              "      <td>0.248634</td>\n",
              "    </tr>\n",
              "    <tr>\n",
              "      <th>13</th>\n",
              "      <td>MLP</td>\n",
              "      <td>10</td>\n",
              "      <td>HR</td>\n",
              "      <td>0.620364</td>\n",
              "    </tr>\n",
              "    <tr>\n",
              "      <th>14</th>\n",
              "      <td>MLP</td>\n",
              "      <td>10</td>\n",
              "      <td>NDCG</td>\n",
              "      <td>0.35422</td>\n",
              "    </tr>\n",
              "    <tr>\n",
              "      <th>15</th>\n",
              "      <td>MLP</td>\n",
              "      <td>10</td>\n",
              "      <td>MRR</td>\n",
              "      <td>0.272727</td>\n",
              "    </tr>\n",
              "    <tr>\n",
              "      <th>16</th>\n",
              "      <td>GMF</td>\n",
              "      <td>0</td>\n",
              "      <td>TIME</td>\n",
              "      <td>2.68642e+06</td>\n",
              "    </tr>\n",
              "    <tr>\n",
              "      <th>17</th>\n",
              "      <td>GMF</td>\n",
              "      <td>0</td>\n",
              "      <td>LOSS</td>\n",
              "      <td>[0.37486281991004944, 0.3535836338996887, 0.35...</td>\n",
              "    </tr>\n",
              "    <tr>\n",
              "      <th>18</th>\n",
              "      <td>GMF</td>\n",
              "      <td>5</td>\n",
              "      <td>HR</td>\n",
              "      <td>0.381623</td>\n",
              "    </tr>\n",
              "    <tr>\n",
              "      <th>19</th>\n",
              "      <td>GMF</td>\n",
              "      <td>5</td>\n",
              "      <td>NDCG</td>\n",
              "      <td>0.254333</td>\n",
              "    </tr>\n",
              "    <tr>\n",
              "      <th>20</th>\n",
              "      <td>GMF</td>\n",
              "      <td>5</td>\n",
              "      <td>MRR</td>\n",
              "      <td>0.212643</td>\n",
              "    </tr>\n",
              "    <tr>\n",
              "      <th>21</th>\n",
              "      <td>GMF</td>\n",
              "      <td>10</td>\n",
              "      <td>HR</td>\n",
              "      <td>0.556126</td>\n",
              "    </tr>\n",
              "    <tr>\n",
              "      <th>22</th>\n",
              "      <td>GMF</td>\n",
              "      <td>10</td>\n",
              "      <td>NDCG</td>\n",
              "      <td>0.310558</td>\n",
              "    </tr>\n",
              "    <tr>\n",
              "      <th>23</th>\n",
              "      <td>GMF</td>\n",
              "      <td>10</td>\n",
              "      <td>MRR</td>\n",
              "      <td>0.235728</td>\n",
              "    </tr>\n",
              "    <tr>\n",
              "      <th>24</th>\n",
              "      <td>NMF</td>\n",
              "      <td>0</td>\n",
              "      <td>TIME</td>\n",
              "      <td>2.68642e+06</td>\n",
              "    </tr>\n",
              "    <tr>\n",
              "      <th>25</th>\n",
              "      <td>NMF</td>\n",
              "      <td>0</td>\n",
              "      <td>LOSS</td>\n",
              "      <td>[0.3310304284095764, 0.30929091572761536, 0.30...</td>\n",
              "    </tr>\n",
              "    <tr>\n",
              "      <th>26</th>\n",
              "      <td>NMF</td>\n",
              "      <td>5</td>\n",
              "      <td>HR</td>\n",
              "      <td>0.428146</td>\n",
              "    </tr>\n",
              "    <tr>\n",
              "      <th>27</th>\n",
              "      <td>NMF</td>\n",
              "      <td>5</td>\n",
              "      <td>NDCG</td>\n",
              "      <td>0.291025</td>\n",
              "    </tr>\n",
              "    <tr>\n",
              "      <th>28</th>\n",
              "      <td>NMF</td>\n",
              "      <td>5</td>\n",
              "      <td>MRR</td>\n",
              "      <td>0.245955</td>\n",
              "    </tr>\n",
              "    <tr>\n",
              "      <th>29</th>\n",
              "      <td>NMF</td>\n",
              "      <td>10</td>\n",
              "      <td>HR</td>\n",
              "      <td>0.61043</td>\n",
              "    </tr>\n",
              "    <tr>\n",
              "      <th>30</th>\n",
              "      <td>NMF</td>\n",
              "      <td>10</td>\n",
              "      <td>NDCG</td>\n",
              "      <td>0.349929</td>\n",
              "    </tr>\n",
              "    <tr>\n",
              "      <th>31</th>\n",
              "      <td>NMF</td>\n",
              "      <td>10</td>\n",
              "      <td>MRR</td>\n",
              "      <td>0.270241</td>\n",
              "    </tr>\n",
              "  </tbody>\n",
              "</table>\n",
              "</div>"
            ],
            "text/plain": [
              "   model topk metric                                              score\n",
              "0     MF    0   TIME                                        2.68642e+06\n",
              "1     MF    0   LOSS  [1.7666953802108765, 1.7452603578567505, 1.743...\n",
              "2     MF    5     HR                                            0.22798\n",
              "3     MF    5   NDCG                                           0.153461\n",
              "4     MF    5    MRR                                           0.129026\n",
              "5     MF   10     HR                                           0.322682\n",
              "6     MF   10   NDCG                                           0.184213\n",
              "7     MF   10    MRR                                           0.141787\n",
              "8    MLP    0   TIME                                        2.68642e+06\n",
              "9    MLP    0   LOSS  [0.3481043875217438, 0.31486931443214417, 0.29...\n",
              "10   MLP    5     HR                                           0.438907\n",
              "11   MLP    5   NDCG                                           0.295665\n",
              "12   MLP    5    MRR                                           0.248634\n",
              "13   MLP   10     HR                                           0.620364\n",
              "14   MLP   10   NDCG                                            0.35422\n",
              "15   MLP   10    MRR                                           0.272727\n",
              "16   GMF    0   TIME                                        2.68642e+06\n",
              "17   GMF    0   LOSS  [0.37486281991004944, 0.3535836338996887, 0.35...\n",
              "18   GMF    5     HR                                           0.381623\n",
              "19   GMF    5   NDCG                                           0.254333\n",
              "20   GMF    5    MRR                                           0.212643\n",
              "21   GMF   10     HR                                           0.556126\n",
              "22   GMF   10   NDCG                                           0.310558\n",
              "23   GMF   10    MRR                                           0.235728\n",
              "24   NMF    0   TIME                                        2.68642e+06\n",
              "25   NMF    0   LOSS  [0.3310304284095764, 0.30929091572761536, 0.30...\n",
              "26   NMF    5     HR                                           0.428146\n",
              "27   NMF    5   NDCG                                           0.291025\n",
              "28   NMF    5    MRR                                           0.245955\n",
              "29   NMF   10     HR                                            0.61043\n",
              "30   NMF   10   NDCG                                           0.349929\n",
              "31   NMF   10    MRR                                           0.270241"
            ]
          },
          "execution_count": 49,
          "metadata": {},
          "output_type": "execute_result"
        }
      ],
      "source": [
        "# df_results\n",
        "# each hyperparam will add a column to the dataframe\n",
        "# this is an example for a df that would allow you to create plots easily"
      ]
    },
    {
      "cell_type": "markdown",
      "id": "de8fe80c",
      "metadata": {
        "id": "de8fe80c"
      },
      "source": [
        "<br><br><br><br>\n",
        "Train & Validation Loss:"
      ]
    },
    {
      "cell_type": "code",
      "execution_count": null,
      "id": "f96689ec",
      "metadata": {
        "id": "f96689ec"
      },
      "outputs": [],
      "source": [
        "# plot\n",
        "# make sure that you did not overfit"
      ]
    },
    {
      "cell_type": "markdown",
      "id": "e25cb272",
      "metadata": {
        "id": "e25cb272"
      },
      "source": [
        "Training Time:"
      ]
    },
    {
      "cell_type": "code",
      "execution_count": null,
      "id": "059a9c74",
      "metadata": {
        "id": "059a9c74"
      },
      "outputs": [],
      "source": [
        "# plot"
      ]
    },
    {
      "cell_type": "markdown",
      "id": "cab37c06",
      "metadata": {
        "id": "cab37c06"
      },
      "source": [
        "Metric Evaluation:"
      ]
    },
    {
      "cell_type": "code",
      "execution_count": null,
      "id": "1cb6c3a7",
      "metadata": {
        "id": "1cb6c3a7",
        "outputId": "f27f6243-69c1-4125-f8a2-23847eb51321"
      },
      "outputs": [
        {
          "data": {
            "image/png": "[encoded data removed]",
            "text/plain": [
              "<Figure size 2409.25x504 with 3 Axes>"
            ]
          },
          "metadata": {},
          "output_type": "display_data"
        }
      ],
      "source": [
        "# plot suggestion/example - you may create your own plot (you should achieve higher results)"
      ]
    },
    {
      "cell_type": "markdown",
      "id": "6a1df0b0",
      "metadata": {
        "id": "6a1df0b0"
      },
      "source": [
        "<br><br><br><br>\n",
        "<br><br><br><br>"
      ]
    },
    {
      "cell_type": "markdown",
      "id": "860df636",
      "metadata": {
        "id": "860df636"
      },
      "source": [
        "**c. How the values of MRR and NDCG are differ from the results you got in the previous exercises which implemented the explicit recommendation approach. What are the difference in preparing the dataset for evaluation.**"
      ]
    },
    {
      "cell_type": "code",
      "execution_count": null,
      "id": "5e76389b",
      "metadata": {
        "id": "5e76389b"
      },
      "outputs": [],
      "source": [
        ""
      ]
    },
    {
      "cell_type": "markdown",
      "id": "f162a6bf",
      "metadata": {
        "id": "f162a6bf"
      },
      "source": [
        "**d. How will you measure item similarity using the NeuMF model?**"
      ]
    },
    {
      "cell_type": "code",
      "execution_count": null,
      "id": "8f92d0c8",
      "metadata": {
        "id": "8f92d0c8"
      },
      "outputs": [],
      "source": [
        ""
      ]
    },
    {
      "cell_type": "markdown",
      "id": "7eb7ab3f",
      "metadata": {
        "id": "7eb7ab3f"
      },
      "source": [
        "<br><br><br>\n",
        "<br><br><br>\n",
        "<br><br><br>"
      ]
    },
    {
      "cell_type": "markdown",
      "id": "f8ba4fb2",
      "metadata": {
        "id": "f8ba4fb2"
      },
      "source": [
        "## Question 3: Loss Function \n",
        "<br><br>"
      ]
    },
    {
      "cell_type": "markdown",
      "id": "1f67dd0f",
      "metadata": {
        "id": "1f67dd0f"
      },
      "source": [
        "#### a. One of the enhancements presented in the Neural Collaborative Filtering paper is the usage of probabilistic activation function (the sigmoid) and binary cross entropy loss function.   \n",
        "\n",
        "Select one of the models you implemented in question 2 and change the loss function to a `Mean Squared Error` and the activation function of the last layer to `RELU`.   \n",
        "\n",
        "Train the model and evaluate it in a similar way to what you did in question 2. \n",
        "Compare the results and discuss."
      ]
    },
    {
      "cell_type": "code",
      "execution_count": null,
      "id": "30a13c2a",
      "metadata": {
        "id": "30a13c2a"
      },
      "outputs": [],
      "source": [
        ""
      ]
    },
    {
      "cell_type": "markdown",
      "id": "a62bde51",
      "metadata": {
        "id": "a62bde51"
      },
      "source": [
        "<br><br><br><br>\n",
        "<br><br><br><br>\n",
        "NMFs Results:"
      ]
    },
    {
      "cell_type": "code",
      "execution_count": null,
      "id": "9566f73d",
      "metadata": {
        "id": "9566f73d"
      },
      "outputs": [],
      "source": [
        "# example: df_results[df_results.model.str.startswith('NMF')]"
      ]
    },
    {
      "cell_type": "markdown",
      "id": "59e21c22",
      "metadata": {
        "id": "59e21c22"
      },
      "source": [
        "<br><br><br>\n",
        "<br><br><br>\n",
        "\n",
        "Train & Validation Loss:"
      ]
    },
    {
      "cell_type": "code",
      "execution_count": null,
      "id": "cde80421",
      "metadata": {
        "id": "cde80421"
      },
      "outputs": [],
      "source": [
        "# plot"
      ]
    },
    {
      "cell_type": "markdown",
      "id": "91c699c5",
      "metadata": {
        "id": "91c699c5"
      },
      "source": [
        "<br><br><br>\n",
        "Training Time:"
      ]
    },
    {
      "cell_type": "code",
      "execution_count": null,
      "id": "5641ae48",
      "metadata": {
        "id": "5641ae48"
      },
      "outputs": [],
      "source": [
        "# plot"
      ]
    },
    {
      "cell_type": "markdown",
      "id": "89505147",
      "metadata": {
        "id": "89505147"
      },
      "source": [
        "<br><br><br>\n",
        "Metric Evaluation:"
      ]
    },
    {
      "cell_type": "code",
      "execution_count": null,
      "id": "4e338dd9",
      "metadata": {
        "id": "4e338dd9"
      },
      "outputs": [],
      "source": [
        "# plot"
      ]
    },
    {
      "cell_type": "markdown",
      "id": "edff10cf",
      "metadata": {
        "id": "edff10cf"
      },
      "source": [
        "<br><br><br><br>\n",
        "**Conclusions:**\n",
        "\n",
        "    - In\n",
        "    - Your\n",
        "    - Own\n",
        "    - Words\n",
        "    "
      ]
    },
    {
      "cell_type": "markdown",
      "id": "a74ebd08",
      "metadata": {
        "id": "a74ebd08"
      },
      "source": [
        "<br><br>\n",
        "<br><br>\n"
      ]
    },
    {
      "cell_type": "markdown",
      "id": "d490e0af",
      "metadata": {
        "id": "d490e0af"
      },
      "source": [
        "Good Luck :)"
      ]
    },
    {
      "cell_type": "code",
      "execution_count": null,
      "id": "ed927985",
      "metadata": {
        "id": "ed927985"
      },
      "outputs": [],
      "source": [
        "# Recommendations Systems\n",
        "## Assignment 3:  Neural Collaborative Filtering\n",
        "\n",
        "**By:**  \n",
        "\n",
        "John Doe, 300123123  \n",
        "Jane Doe, 200123123\n",
        "\n",
        "<br><br>\n",
        "\n",
        "**The goal of this assignment is to:**\n",
        "- Understand the concept of recommendations based on implicit data which is very common in real life.\n",
        "- Understand how DL components can be used to implement a collaborative filtering & hybrid approach recommenders.\n",
        "- Understand pros&cons comparing to other recommender system approaches.\n",
        "- Practice recommender system training and evaluation.\n",
        "\n",
        "**Instructions:**\n",
        "- Students will form teams of two people each, and submit a single homework for each team.\n",
        "- The same score for the homework will be given to each member of the team.\n",
        "- Your solution in the form of an Jupyter notebook file (with extension ipynb).\n",
        "- Images/Graphs/Tables should be submitted inside the notebook.\n",
        "- The notebook should be runnable and properly documented. \n",
        "- Please answer all the questions and include all your code.\n",
        "- English only.\n",
        "\n",
        "**Submission:**\n",
        "- Submission of the homework will be done via Moodle by uploading a Jupyter notbook.\n",
        "- The homwork needs to be entirely in English.\n",
        "- The deadline for submission is on Moodle.\n",
        "\n",
        "**Requirements:**  \n",
        "- Python 3.6 should be used. \n",
        "- You may use Torch/Keras/TF packeges.\n",
        "- You should implement the recommender system by yourself using only basic Python libraries (such as numpy).\n",
        "\n",
        "**LINKS:**\n",
        "- <a href='https://github.com/hexiangnan/neural_collaborative_filtering/tree/master/Data'>Dataset</a>\n",
        "- <a href='https://github.com/hexiangnan/neural_collaborative_filtering'>Repository</a>\n",
        "- <a href='https://towardsdatascience.com/paper-review-neural-collaborative-filtering-explanation-implementation-ea3e031b7f96'>Blog Post Review</a>\n",
        "<br>\n",
        "\n",
        "**Google <a href='https://colab.research.google.com/'>Colaboratory</a>**  \n",
        "        \n",
        "    This is a great academic tool for students. Instead of installing and running \"everything\" on your Laptop - which probably will take you a lot of time - you can use Google Colab.  \n",
        "    Basically, you can use it for all your Python needs.  \n",
        "\n",
        "**PyTorch <a href='https://pytorch.org/tutorials/beginner/basics/intro.html'>Tutorials</a>**   \n",
        "    \n",
        "    Just follow steps 0-7 and you will have the basics skills to understand, build, and run DL recommender models. \n",
        "\n",
        "**Keras Kaggle's <a href='https://www.kaggle.com/learn/intro-to-deep-learning'>intro-to-deep-learning</a>**  \n",
        "    \n",
        "    This will give you a quick idea of what DL is, and how to utilize it.  \n",
        "    They're using TensorFlow, while in our MLDL program we're using PyTorch.  \n",
        "\n",
        "\n",
        "\n",
        "\n",
        "**Grading:**\n",
        "\n",
        "- Q1 - 20 points - Dataset Preparation\n",
        "- Q2 - 50 points - Neural Collaborative Filtering\n",
        "- Q3 - 30 points - Loss Function\n",
        "\n",
        "`Total: 100`\n",
        "\n",
        "<br><br><br>\n",
        "\n",
        "**Prerequisites**\n",
        "\n",
        "# !pip install --quiet\n",
        "\n",
        "**Imports**\n",
        "\n",
        "# basic\n",
        "import os \n",
        "import sys\n",
        "import math\n",
        "import heapq\n",
        "import argparse\n",
        "from time import time\n",
        "import multiprocessing\n",
        "\n",
        "# general\n",
        "import warnings\n",
        "import numpy as np\n",
        "import scipy as sp\n",
        "import pandas as pd\n",
        "import scipy.sparse as sp\n",
        "\n",
        "# visual\n",
        "import matplotlib\n",
        "import seaborn as sns\n",
        "import matplotlib.pyplot as plt\n",
        "\n",
        "# visual 3D\n",
        "from mpl_toolkits import mplot3d\n",
        "\n",
        "# notebook\n",
        "from IPython.display import display, HTML\n",
        "\n",
        "\n",
        "# torch\n",
        "import torch\n",
        "from torch import nn\n",
        "import torch.nn.functional as F\n",
        "from torch.nn import Sequential\n",
        "from torch.nn import Sigmoid,ReLU\n",
        "from torch.nn import Embedding,Linear,Dropout\n",
        "from torch.utils.data import DataLoader, Dataset\n",
        "from torchvision.transforms import ToTensor,Compose\n",
        "from torch.optim import SparseAdam,Adam,Adagrad,SGD\n",
        "\n",
        "\n",
        "# Keras\n",
        "# import tensorflow\n",
        "# from tensorflow import keras\n",
        "# from tensorflow.keras.models import Model\n",
        "# from tensorflow.keras import initializers\n",
        "# from tensorflow.keras.regularizers import l2\n",
        "# from tensorflow.keras.initializers import RandomNormal\n",
        "# from tensorflow.keras.layers import Dense,Lambda,Activation\n",
        "# from tensorflow.keras.optimizers import Adam,SGD,RMSprop,Adamax\n",
        "# from tensorflow.keras.models import Sequential,Model,load_model,save_model\n",
        "# from tensorflow.keras.callbacks import Callback, EarlyStopping, ModelCheckpoint\n",
        "# from tensorflow.keras.layers import Embedding,Input,Dense,Reshape,Flatten,Dropout,Multiply,Concatenate\n",
        "\n",
        "# colab\n",
        "# from google.colab import drive  \n",
        "\n",
        "**Hide Warnings**\n",
        "\n",
        "warnings.filterwarnings('ignore')\n",
        "\n",
        "**Disable Autoscrolling**\n",
        "\n",
        "%%javascript\n",
        "IPython.OutputArea.prototype._should_scroll = function(lines) {\n",
        "    return false;\n",
        "};\n",
        "\n",
        "<br><br><br>\n",
        "<br><br><br>\n",
        "<br><br><br>\n",
        "\n",
        "## Question 1: Dataset Preparation (Ingestion)\n",
        "<br><br>\n",
        "\n",
        "This implementation contains one file for training and two files for testing:   \n",
        "- ml-1m.train.rating   \n",
        "- ml-1m.test.rating  \n",
        "- ml-1m.test.negative   \n",
        "\n",
        "<br>\n",
        "(feel free to use visual explanations)\n",
        "<br>\n",
        "\n",
        "a. **Explain** the role and structure of each file and how it was created from the original <a href='https://github.com/hexiangnan/neural_collaborative_filtering/tree/master/Data'>MovieLens 1M rating dataset</a>.\n",
        "\n",
        "### ml-1m.train.rating and  ml-1m.test.rating format  \\\n",
        "  user_id - from 0 to 6039 \n",
        "  movie id - from 0  to 3573\n",
        "  rating - [1,2,3,4,5]\n",
        "  timestamp - is represented in seconds since the epoch\n",
        " \n",
        " in trainning file each user has atleast 19 rows and the maximum is 2313 rows.\n",
        " in the test every user has 1 row which is the last rating he gave. \n",
        " \n",
        " \n",
        "  \n",
        " \n",
        "### ml-1m.test.negative  format:  (row numer, user id), list of movies that the user didnt interact with.\n",
        "\n",
        "Test file (negative instances).\n",
        "Each line corresponds to the line of test.rating, containing 99 negative samples.\n",
        "Each line is in the format: (user id, item id)\\t negativeItemID1\\t negativeItemID2\n",
        "\n",
        "b. **Explain** how the training dataset is created.\n",
        "\n",
        "trainning file was created from ratings.dat file.\n",
        "\n",
        "They used version that contains only users with atleast 20 ratings.\n",
        "\n",
        "so the tranning set contains atleast 19 rows for every user (last row goes to test).\n",
        "\n",
        "They took all the user rating except for the last rating (last in time)\n",
        "\n",
        "train_df.sample(3)\n",
        "\n",
        "c. **Explain** how the test dataset is created.\n",
        "\n",
        " The test file contain the last rating every user gave.  \n",
        " \n",
        " since they used movilen with atleast 20 ratings for every user, so every user has one test rating and at least  \n",
        "  19 trainning ratings.\n",
        "\n",
        "#### Data Preperations:\n",
        "\n",
        "file_train    = 'ml-1m.train.rating'\n",
        "file_test     = 'ml-1m.test.rating'\n",
        "file_test_neg = 'ml-1m.test.negative'\n",
        "\n",
        "train_df = pd.read_csv(file_train,\n",
        "                    sep='\\t', \n",
        "                    engine='python', \n",
        "                    encoding='latin-1',\n",
        "                    names=['user_id', 'movie_id', 'rating', 'timestamp'])\n",
        "\n",
        "test_df = pd.read_csv(file_test,\n",
        "                    sep='\\t', \n",
        "                    engine='python', \n",
        "                    encoding='latin-1',\n",
        "                    names=['user_id', 'movie_id', 'rating', 'timestamp'])\n",
        "\n",
        "\n",
        "\n",
        "# test_negative_df = pd.read_csv(file_test_neg,\n",
        "#                     sep='\\t', \n",
        "#                     engine='python', \n",
        "#                     encoding='latin-1',\n",
        "#                     names=['user_id', 'movieid', 'rating', 'timestamp'])\n",
        "\n",
        "\n",
        "\n",
        "train_df.sample(3)\n",
        "\n",
        "test_df.sample(2)\n",
        "\n",
        "<br><br><br>\n",
        "<br><br><br>\n",
        "<br><br><br>\n",
        "\n",
        "## Question 2: Neural Collaborative Filtering \n",
        "<br><br>\n",
        "\n",
        "## a. Build the following four models using the neural collaborative filtering approach: \n",
        "- Matrix Factorization (MF)\n",
        "- Multi layer perceptron (MLP)\n",
        "- Generalized Matrix Factorization (GMF) \n",
        "- NeuroMatrixFactorization (NMF)\n",
        "\n",
        "\n",
        "<br><br><br><br>\n",
        "**Matrix Factorization (MF)**\n",
        "\n",
        "<br>\n",
        "\n",
        "![image.png](attachment:image.png)\n",
        "\n",
        "model_MF = None\n",
        "\n",
        "<br><br><br><br><br><br>\n",
        "**Multi Layer Perceptron (MLP)**\n",
        "<br>\n",
        "![image.png](attachment:image.png)\n",
        "\n",
        "model_MLP = None\n",
        "\n",
        "<br><br><br><br><br><br>\n",
        "**Generalized Matrix Factorization (GMF)**\n",
        "<br>\n",
        "![image.png](attachment:image.png)\n",
        "\n",
        "model_GMF = None\n",
        "\n",
        "<br><br><br><br><br><br>\n",
        "**NeuroMatrixFactorization (NMF)**\n",
        "\n",
        "<br>\n",
        "\n",
        "![image.png](attachment:image.png)\n",
        "\n",
        "model_NMF = None\n",
        "\n",
        "<br><br><br><br><br><br>\n",
        "\n",
        "## b. Train and evaluate the recommendations accuracy of the models: \n",
        "- MF\n",
        "- GMF\n",
        "- MLP\n",
        "- NMF\n",
        "\n",
        "Compare the learning curve and recommendations accuracy using NDCG and MRR metrics with cutoff values of 5 and 10.   \n",
        "Discuss the comparison. \n",
        "\n",
        "**Metrics:**\n",
        "- HitRatio\n",
        "- nDCG\n",
        "- MRR\n",
        "\n",
        "# Use your own metrics implementation OR use external packages for the metrics.\n",
        "# If you are using external packages make sure they work properly. \n",
        "# A lot of the packages available does not work as you would expect.\n",
        "\n",
        "**Evaluation:**\n",
        "\n",
        "\n",
        "\n",
        "\n",
        "\n",
        "**HyperParams:**\n",
        "\n",
        "# the choosen hyperparams will effect your models & your grade \n",
        "\n",
        "<br><br>\n",
        "Create train data:\n",
        "\n",
        "\n",
        "\n",
        "<br><br>\n",
        "train & eval:\n",
        "\n",
        "\n",
        "\n",
        "<br><br><br><br>\n",
        "<br><br><br><br>\n",
        "<br><br><br><br>\n",
        "All Results:\n",
        "\n",
        "# df_results\n",
        "# each hyperparam will add a column to the dataframe\n",
        "# this is an example for a df that would allow you to create plots easily\n",
        "\n",
        "<br><br><br><br>\n",
        "Train & Validation Loss:\n",
        "\n",
        "# plot\n",
        "# make sure that you did not overfit\n",
        "\n",
        "Training Time:\n",
        "\n",
        "# plot\n",
        "\n",
        "Metric Evaluation:\n",
        "\n",
        "# plot suggestion/example - you may create your own plot (you should achieve higher results)\n",
        "\n",
        "<br><br><br><br>\n",
        "<br><br><br><br>\n",
        "\n",
        "**c. How the values of MRR and NDCG are differ from the results you got in the previous exercises which implemented the explicit recommendation approach. What are the difference in preparing the dataset for evaluation.**\n",
        "\n",
        "\n",
        "\n",
        "**d. How will you measure item similarity using the NeuMF model?**\n",
        "\n",
        "\n",
        "\n",
        "<br><br><br>\n",
        "<br><br><br>\n",
        "<br><br><br>\n",
        "\n",
        "## Question 3: Loss Function \n",
        "<br><br>\n",
        "\n",
        "#### a. One of the enhancements presented in the Neural Collaborative Filtering paper is the usage of probabilistic activation function (the sigmoid) and binary cross entropy loss function.   \n",
        "\n",
        "Select one of the models you implemented in question 2 and change the loss function to a `Mean Squared Error` and the activation function of the last layer to `RELU`.   \n",
        "\n",
        "Train the model and evaluate it in a similar way to what you did in question 2. \n",
        "Compare the results and discuss.\n",
        "\n",
        "\n",
        "\n",
        "<br><br><br><br>\n",
        "<br><br><br><br>\n",
        "NMFs Results:\n",
        "\n",
        "# example: df_results[df_results.model.str.startswith('NMF')]\n",
        "\n",
        "<br><br><br>\n",
        "<br><br><br>\n",
        "\n",
        "Train & Validation Loss:\n",
        "\n",
        "# plot\n",
        "\n",
        "<br><br><br>\n",
        "Training Time:\n",
        "\n",
        "# plot\n",
        "\n",
        "<br><br><br>\n",
        "Metric Evaluation:\n",
        "\n",
        "# plot\n",
        "\n",
        "<br><br><br><br>\n",
        "**Conclusions:**\n",
        "\n",
        "    - In\n",
        "    - Your\n",
        "    - Own\n",
        "    - Words\n",
        "    \n",
        "\n",
        "<br><br>\n",
        "<br><br>\n",
        "\n",
        "\n",
        "Good Luck :)"
      ]
    }
  ],
  "metadata": {
    "kernelspec": {
      "display_name": "Python (rs1)",
      "language": "python",
      "name": "rs1"
    },
    "language_info": {
      "codemirror_mode": {
        "name": "ipython",
        "version": 3
      },
      "file_extension": ".py",
      "mimetype": "text/x-python",
      "name": "python",
      "nbconvert_exporter": "python",
      "pygments_lexer": "ipython3",
      "version": "3.6.13"
    },
    "colab": {
      "name": "exe3_solution.ipynb",
      "provenance": []
    },
    "accelerator": "GPU"
  },
  "nbformat": 4,
  "nbformat_minor": 5
}